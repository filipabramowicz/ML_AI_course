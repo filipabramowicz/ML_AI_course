{
  "nbformat": 4,
  "nbformat_minor": 0,
  "metadata": {
    "colab": {
      "provenance": [],
      "toc_visible": true,
      "authorship_tag": "ABX9TyM3OmSZvvfARM4bFq3zbJxF",
      "include_colab_link": true
    },
    "kernelspec": {
      "name": "python3",
      "display_name": "Python 3"
    },
    "language_info": {
      "name": "python"
    }
  },
  "cells": [
    {
      "cell_type": "markdown",
      "metadata": {
        "id": "view-in-github",
        "colab_type": "text"
      },
      "source": [
        "<a href=\"https://colab.research.google.com/github/filipabramowicz/ML_AI_course/blob/main/notes_from_lab03.ipynb\" target=\"_parent\"><img src=\"https://colab.research.google.com/assets/colab-badge.svg\" alt=\"Open In Colab\"/></a>"
      ]
    },
    {
      "cell_type": "markdown",
      "source": [
        "# Introduction\n",
        "\n",
        "Imports needed later:"
      ],
      "metadata": {
        "id": "S-UHLr8O7CR7"
      }
    },
    {
      "cell_type": "code",
      "execution_count": null,
      "metadata": {
        "id": "kkL6ddsf63Vt"
      },
      "outputs": [],
      "source": [
        "#@title Everyday life's import\n",
        "\n",
        "# Plotting\n",
        "import matplotlib.pyplot as plt\n",
        "import seaborn as sns\n",
        "sns.set()\n",
        "\n",
        "# Nice printing\n",
        "import pprint\n",
        "\n",
        "# Data processing\n",
        "import numpy as np\n",
        "import pandas as pd\n",
        "\n",
        "# Data transformation\n",
        "from sklearn.preprocessing import MinMaxScaler\n",
        "from sklearn.preprocessing import StandardScaler\n",
        "from numpy import log\n",
        "\n",
        "# Data preparation for learning, model selection\n",
        "from sklearn.model_selection import train_test_split\n",
        "from sklearn.preprocessing import PolynomialFeatures\n",
        "from sklearn.model_selection import GridSearchCV\n",
        "import sklearn.model_selection as ms\n",
        "\n",
        "# Linear regression\n",
        "from sklearn import linear_model\n",
        "from sklearn.linear_model import Ridge, Lasso\n",
        "\n",
        "# Processing pipelining\n",
        "from sklearn.pipeline import make_pipeline\n",
        "from sklearn.pipeline import Pipeline\n",
        "\n",
        "# Quality indicators\n",
        "from sklearn import metrics"
      ]
    },
    {
      "cell_type": "markdown",
      "source": [
        "Let's load some data:"
      ],
      "metadata": {
        "id": "zpvLVIMy7MLh"
      }
    },
    {
      "cell_type": "code",
      "source": [
        "#@title Simple data acquisition for regression\n",
        "#@markdown * Data on mammals: a popular example for regression.\n",
        "#@markdown * Example based on: Jesus Rogel-Salazar, *Data Science and Analysis with Python*, CRC Press, Boca Raton 2017. **Chapter 4**\n",
        "\n",
        "mammals = pd.read_csv(\"https://ndownloader.figshare.com/files/2332069\")\n",
        "\n",
        "mammals"
      ],
      "metadata": {
        "colab": {
          "base_uri": "https://localhost:8080/",
          "height": 424
        },
        "id": "xhsjgdWA7QKA",
        "outputId": "4933fb4a-8889-4d89-f72c-d57ba66b4754"
      },
      "execution_count": null,
      "outputs": [
        {
          "output_type": "execute_result",
          "data": {
            "text/plain": [
              "             Mammal     body  brain\n",
              "0        Arctic fox    3.385   44.5\n",
              "1        Owl monkey    0.480   15.5\n",
              "2   Mountain beaver    1.350    8.1\n",
              "3               Cow  465.000  423.0\n",
              "4         Grey wolf   36.330  119.5\n",
              "..              ...      ...    ...\n",
              "57  Brazilian tapir  160.000  169.0\n",
              "58           Tenrec    0.900    2.6\n",
              "59        Phalanger    1.620   11.4\n",
              "60       Tree shrew    0.104    2.5\n",
              "61          Red fox    4.235   50.4\n",
              "\n",
              "[62 rows x 3 columns]"
            ],
            "text/html": [
              "\n",
              "  <div id=\"df-a6e9e04a-977d-46ec-8329-54a82a7e8378\">\n",
              "    <div class=\"colab-df-container\">\n",
              "      <div>\n",
              "<style scoped>\n",
              "    .dataframe tbody tr th:only-of-type {\n",
              "        vertical-align: middle;\n",
              "    }\n",
              "\n",
              "    .dataframe tbody tr th {\n",
              "        vertical-align: top;\n",
              "    }\n",
              "\n",
              "    .dataframe thead th {\n",
              "        text-align: right;\n",
              "    }\n",
              "</style>\n",
              "<table border=\"1\" class=\"dataframe\">\n",
              "  <thead>\n",
              "    <tr style=\"text-align: right;\">\n",
              "      <th></th>\n",
              "      <th>Mammal</th>\n",
              "      <th>body</th>\n",
              "      <th>brain</th>\n",
              "    </tr>\n",
              "  </thead>\n",
              "  <tbody>\n",
              "    <tr>\n",
              "      <th>0</th>\n",
              "      <td>Arctic fox</td>\n",
              "      <td>3.385</td>\n",
              "      <td>44.5</td>\n",
              "    </tr>\n",
              "    <tr>\n",
              "      <th>1</th>\n",
              "      <td>Owl monkey</td>\n",
              "      <td>0.480</td>\n",
              "      <td>15.5</td>\n",
              "    </tr>\n",
              "    <tr>\n",
              "      <th>2</th>\n",
              "      <td>Mountain beaver</td>\n",
              "      <td>1.350</td>\n",
              "      <td>8.1</td>\n",
              "    </tr>\n",
              "    <tr>\n",
              "      <th>3</th>\n",
              "      <td>Cow</td>\n",
              "      <td>465.000</td>\n",
              "      <td>423.0</td>\n",
              "    </tr>\n",
              "    <tr>\n",
              "      <th>4</th>\n",
              "      <td>Grey wolf</td>\n",
              "      <td>36.330</td>\n",
              "      <td>119.5</td>\n",
              "    </tr>\n",
              "    <tr>\n",
              "      <th>...</th>\n",
              "      <td>...</td>\n",
              "      <td>...</td>\n",
              "      <td>...</td>\n",
              "    </tr>\n",
              "    <tr>\n",
              "      <th>57</th>\n",
              "      <td>Brazilian tapir</td>\n",
              "      <td>160.000</td>\n",
              "      <td>169.0</td>\n",
              "    </tr>\n",
              "    <tr>\n",
              "      <th>58</th>\n",
              "      <td>Tenrec</td>\n",
              "      <td>0.900</td>\n",
              "      <td>2.6</td>\n",
              "    </tr>\n",
              "    <tr>\n",
              "      <th>59</th>\n",
              "      <td>Phalanger</td>\n",
              "      <td>1.620</td>\n",
              "      <td>11.4</td>\n",
              "    </tr>\n",
              "    <tr>\n",
              "      <th>60</th>\n",
              "      <td>Tree shrew</td>\n",
              "      <td>0.104</td>\n",
              "      <td>2.5</td>\n",
              "    </tr>\n",
              "    <tr>\n",
              "      <th>61</th>\n",
              "      <td>Red fox</td>\n",
              "      <td>4.235</td>\n",
              "      <td>50.4</td>\n",
              "    </tr>\n",
              "  </tbody>\n",
              "</table>\n",
              "<p>62 rows × 3 columns</p>\n",
              "</div>\n",
              "      <button class=\"colab-df-convert\" onclick=\"convertToInteractive('df-a6e9e04a-977d-46ec-8329-54a82a7e8378')\"\n",
              "              title=\"Convert this dataframe to an interactive table.\"\n",
              "              style=\"display:none;\">\n",
              "        \n",
              "  <svg xmlns=\"http://www.w3.org/2000/svg\" height=\"24px\"viewBox=\"0 0 24 24\"\n",
              "       width=\"24px\">\n",
              "    <path d=\"M0 0h24v24H0V0z\" fill=\"none\"/>\n",
              "    <path d=\"M18.56 5.44l.94 2.06.94-2.06 2.06-.94-2.06-.94-.94-2.06-.94 2.06-2.06.94zm-11 1L8.5 8.5l.94-2.06 2.06-.94-2.06-.94L8.5 2.5l-.94 2.06-2.06.94zm10 10l.94 2.06.94-2.06 2.06-.94-2.06-.94-.94-2.06-.94 2.06-2.06.94z\"/><path d=\"M17.41 7.96l-1.37-1.37c-.4-.4-.92-.59-1.43-.59-.52 0-1.04.2-1.43.59L10.3 9.45l-7.72 7.72c-.78.78-.78 2.05 0 2.83L4 21.41c.39.39.9.59 1.41.59.51 0 1.02-.2 1.41-.59l7.78-7.78 2.81-2.81c.8-.78.8-2.07 0-2.86zM5.41 20L4 18.59l7.72-7.72 1.47 1.35L5.41 20z\"/>\n",
              "  </svg>\n",
              "      </button>\n",
              "      \n",
              "  <style>\n",
              "    .colab-df-container {\n",
              "      display:flex;\n",
              "      flex-wrap:wrap;\n",
              "      gap: 12px;\n",
              "    }\n",
              "\n",
              "    .colab-df-convert {\n",
              "      background-color: #E8F0FE;\n",
              "      border: none;\n",
              "      border-radius: 50%;\n",
              "      cursor: pointer;\n",
              "      display: none;\n",
              "      fill: #1967D2;\n",
              "      height: 32px;\n",
              "      padding: 0 0 0 0;\n",
              "      width: 32px;\n",
              "    }\n",
              "\n",
              "    .colab-df-convert:hover {\n",
              "      background-color: #E2EBFA;\n",
              "      box-shadow: 0px 1px 2px rgba(60, 64, 67, 0.3), 0px 1px 3px 1px rgba(60, 64, 67, 0.15);\n",
              "      fill: #174EA6;\n",
              "    }\n",
              "\n",
              "    [theme=dark] .colab-df-convert {\n",
              "      background-color: #3B4455;\n",
              "      fill: #D2E3FC;\n",
              "    }\n",
              "\n",
              "    [theme=dark] .colab-df-convert:hover {\n",
              "      background-color: #434B5C;\n",
              "      box-shadow: 0px 1px 3px 1px rgba(0, 0, 0, 0.15);\n",
              "      filter: drop-shadow(0px 1px 2px rgba(0, 0, 0, 0.3));\n",
              "      fill: #FFFFFF;\n",
              "    }\n",
              "  </style>\n",
              "\n",
              "      <script>\n",
              "        const buttonEl =\n",
              "          document.querySelector('#df-a6e9e04a-977d-46ec-8329-54a82a7e8378 button.colab-df-convert');\n",
              "        buttonEl.style.display =\n",
              "          google.colab.kernel.accessAllowed ? 'block' : 'none';\n",
              "\n",
              "        async function convertToInteractive(key) {\n",
              "          const element = document.querySelector('#df-a6e9e04a-977d-46ec-8329-54a82a7e8378');\n",
              "          const dataTable =\n",
              "            await google.colab.kernel.invokeFunction('convertToInteractive',\n",
              "                                                     [key], {});\n",
              "          if (!dataTable) return;\n",
              "\n",
              "          const docLinkHtml = 'Like what you see? Visit the ' +\n",
              "            '<a target=\"_blank\" href=https://colab.research.google.com/notebooks/data_table.ipynb>data table notebook</a>'\n",
              "            + ' to learn more about interactive tables.';\n",
              "          element.innerHTML = '';\n",
              "          dataTable['output_type'] = 'display_data';\n",
              "          await google.colab.output.renderOutput(dataTable, element);\n",
              "          const docLink = document.createElement('div');\n",
              "          docLink.innerHTML = docLinkHtml;\n",
              "          element.appendChild(docLink);\n",
              "        }\n",
              "      </script>\n",
              "    </div>\n",
              "  </div>\n",
              "  "
            ]
          },
          "metadata": {},
          "execution_count": 2
        }
      ]
    },
    {
      "cell_type": "code",
      "source": [
        "#@markdown Basic information on data\n",
        "\n",
        "print(f'Columns: {mammals.columns}')\n",
        "print(f'Dimensions: {mammals.shape}')\n",
        "print(f'Number of rows: {len(mammals)}') # or: mammals.shape[0]\n",
        "print(f'Number of elements: {mammals.size}')"
      ],
      "metadata": {
        "colab": {
          "base_uri": "https://localhost:8080/"
        },
        "id": "GbiFLEhi7uEJ",
        "outputId": "fa9f7d7c-c1b7-4944-8187-6e73c964ee3b"
      },
      "execution_count": null,
      "outputs": [
        {
          "output_type": "stream",
          "name": "stdout",
          "text": [
            "Columns: Index(['Mammal', 'body', 'brain'], dtype='object')\n",
            "Dimensions: (62, 3)\n",
            "Number of rows: 62\n",
            "Number of elements: 186\n"
          ]
        }
      ]
    },
    {
      "cell_type": "code",
      "source": [
        "#@markdown A few random samples (approx. 10%)\n",
        "\n",
        "print('The last three rows:',mammals.iloc[-3:,:])\n",
        "\n",
        "print('\\nSome random elements:')\n",
        "mammals.sample(19)"
      ],
      "metadata": {
        "colab": {
          "base_uri": "https://localhost:8080/",
          "height": 753
        },
        "id": "iGRVN2Cb8cUb",
        "outputId": "d0375092-49fb-47d1-817f-5f1519ae8702"
      },
      "execution_count": null,
      "outputs": [
        {
          "output_type": "stream",
          "name": "stdout",
          "text": [
            "The last three rows:         Mammal   body  brain\n",
            "59   Phalanger  1.620   11.4\n",
            "60  Tree shrew  0.104    2.5\n",
            "61     Red fox  4.235   50.4\n",
            "\n",
            "Some random elements:\n"
          ]
        },
        {
          "output_type": "execute_result",
          "data": {
            "text/plain": [
              "              Mammal      body    brain\n",
              "27           Giraffe   529.000   680.00\n",
              "0         Arctic fox     3.385    44.50\n",
              "54        Musk shrew     0.048     0.33\n",
              "35          Kangaroo    35.000    56.00\n",
              "47   Desert hedgehog     0.550     2.40\n",
              "2    Mountain beaver     1.350     8.10\n",
              "24               Cat     3.300    25.60\n",
              "50           Raccoon     4.288    39.20\n",
              "18    Asian elephant  2547.000  4603.00\n",
              "52  E. American mole     0.075     1.20\n",
              "1         Owl monkey     0.480    15.50\n",
              "61           Red fox     4.235    50.40\n",
              "6           Roe deer    14.830    98.20\n",
              "57   Brazilian tapir   160.000   169.00\n",
              "40        Slow loris     1.400    12.50\n",
              "43             Sheep    55.500   175.00\n",
              "5               Goat    27.660   115.00\n",
              "59         Phalanger     1.620    11.40\n",
              "58            Tenrec     0.900     2.60"
            ],
            "text/html": [
              "\n",
              "  <div id=\"df-f509a644-1fbe-4ac7-a5c9-1b7c482ff8b4\">\n",
              "    <div class=\"colab-df-container\">\n",
              "      <div>\n",
              "<style scoped>\n",
              "    .dataframe tbody tr th:only-of-type {\n",
              "        vertical-align: middle;\n",
              "    }\n",
              "\n",
              "    .dataframe tbody tr th {\n",
              "        vertical-align: top;\n",
              "    }\n",
              "\n",
              "    .dataframe thead th {\n",
              "        text-align: right;\n",
              "    }\n",
              "</style>\n",
              "<table border=\"1\" class=\"dataframe\">\n",
              "  <thead>\n",
              "    <tr style=\"text-align: right;\">\n",
              "      <th></th>\n",
              "      <th>Mammal</th>\n",
              "      <th>body</th>\n",
              "      <th>brain</th>\n",
              "    </tr>\n",
              "  </thead>\n",
              "  <tbody>\n",
              "    <tr>\n",
              "      <th>27</th>\n",
              "      <td>Giraffe</td>\n",
              "      <td>529.000</td>\n",
              "      <td>680.00</td>\n",
              "    </tr>\n",
              "    <tr>\n",
              "      <th>0</th>\n",
              "      <td>Arctic fox</td>\n",
              "      <td>3.385</td>\n",
              "      <td>44.50</td>\n",
              "    </tr>\n",
              "    <tr>\n",
              "      <th>54</th>\n",
              "      <td>Musk shrew</td>\n",
              "      <td>0.048</td>\n",
              "      <td>0.33</td>\n",
              "    </tr>\n",
              "    <tr>\n",
              "      <th>35</th>\n",
              "      <td>Kangaroo</td>\n",
              "      <td>35.000</td>\n",
              "      <td>56.00</td>\n",
              "    </tr>\n",
              "    <tr>\n",
              "      <th>47</th>\n",
              "      <td>Desert hedgehog</td>\n",
              "      <td>0.550</td>\n",
              "      <td>2.40</td>\n",
              "    </tr>\n",
              "    <tr>\n",
              "      <th>2</th>\n",
              "      <td>Mountain beaver</td>\n",
              "      <td>1.350</td>\n",
              "      <td>8.10</td>\n",
              "    </tr>\n",
              "    <tr>\n",
              "      <th>24</th>\n",
              "      <td>Cat</td>\n",
              "      <td>3.300</td>\n",
              "      <td>25.60</td>\n",
              "    </tr>\n",
              "    <tr>\n",
              "      <th>50</th>\n",
              "      <td>Raccoon</td>\n",
              "      <td>4.288</td>\n",
              "      <td>39.20</td>\n",
              "    </tr>\n",
              "    <tr>\n",
              "      <th>18</th>\n",
              "      <td>Asian elephant</td>\n",
              "      <td>2547.000</td>\n",
              "      <td>4603.00</td>\n",
              "    </tr>\n",
              "    <tr>\n",
              "      <th>52</th>\n",
              "      <td>E. American mole</td>\n",
              "      <td>0.075</td>\n",
              "      <td>1.20</td>\n",
              "    </tr>\n",
              "    <tr>\n",
              "      <th>1</th>\n",
              "      <td>Owl monkey</td>\n",
              "      <td>0.480</td>\n",
              "      <td>15.50</td>\n",
              "    </tr>\n",
              "    <tr>\n",
              "      <th>61</th>\n",
              "      <td>Red fox</td>\n",
              "      <td>4.235</td>\n",
              "      <td>50.40</td>\n",
              "    </tr>\n",
              "    <tr>\n",
              "      <th>6</th>\n",
              "      <td>Roe deer</td>\n",
              "      <td>14.830</td>\n",
              "      <td>98.20</td>\n",
              "    </tr>\n",
              "    <tr>\n",
              "      <th>57</th>\n",
              "      <td>Brazilian tapir</td>\n",
              "      <td>160.000</td>\n",
              "      <td>169.00</td>\n",
              "    </tr>\n",
              "    <tr>\n",
              "      <th>40</th>\n",
              "      <td>Slow loris</td>\n",
              "      <td>1.400</td>\n",
              "      <td>12.50</td>\n",
              "    </tr>\n",
              "    <tr>\n",
              "      <th>43</th>\n",
              "      <td>Sheep</td>\n",
              "      <td>55.500</td>\n",
              "      <td>175.00</td>\n",
              "    </tr>\n",
              "    <tr>\n",
              "      <th>5</th>\n",
              "      <td>Goat</td>\n",
              "      <td>27.660</td>\n",
              "      <td>115.00</td>\n",
              "    </tr>\n",
              "    <tr>\n",
              "      <th>59</th>\n",
              "      <td>Phalanger</td>\n",
              "      <td>1.620</td>\n",
              "      <td>11.40</td>\n",
              "    </tr>\n",
              "    <tr>\n",
              "      <th>58</th>\n",
              "      <td>Tenrec</td>\n",
              "      <td>0.900</td>\n",
              "      <td>2.60</td>\n",
              "    </tr>\n",
              "  </tbody>\n",
              "</table>\n",
              "</div>\n",
              "      <button class=\"colab-df-convert\" onclick=\"convertToInteractive('df-f509a644-1fbe-4ac7-a5c9-1b7c482ff8b4')\"\n",
              "              title=\"Convert this dataframe to an interactive table.\"\n",
              "              style=\"display:none;\">\n",
              "        \n",
              "  <svg xmlns=\"http://www.w3.org/2000/svg\" height=\"24px\"viewBox=\"0 0 24 24\"\n",
              "       width=\"24px\">\n",
              "    <path d=\"M0 0h24v24H0V0z\" fill=\"none\"/>\n",
              "    <path d=\"M18.56 5.44l.94 2.06.94-2.06 2.06-.94-2.06-.94-.94-2.06-.94 2.06-2.06.94zm-11 1L8.5 8.5l.94-2.06 2.06-.94-2.06-.94L8.5 2.5l-.94 2.06-2.06.94zm10 10l.94 2.06.94-2.06 2.06-.94-2.06-.94-.94-2.06-.94 2.06-2.06.94z\"/><path d=\"M17.41 7.96l-1.37-1.37c-.4-.4-.92-.59-1.43-.59-.52 0-1.04.2-1.43.59L10.3 9.45l-7.72 7.72c-.78.78-.78 2.05 0 2.83L4 21.41c.39.39.9.59 1.41.59.51 0 1.02-.2 1.41-.59l7.78-7.78 2.81-2.81c.8-.78.8-2.07 0-2.86zM5.41 20L4 18.59l7.72-7.72 1.47 1.35L5.41 20z\"/>\n",
              "  </svg>\n",
              "      </button>\n",
              "      \n",
              "  <style>\n",
              "    .colab-df-container {\n",
              "      display:flex;\n",
              "      flex-wrap:wrap;\n",
              "      gap: 12px;\n",
              "    }\n",
              "\n",
              "    .colab-df-convert {\n",
              "      background-color: #E8F0FE;\n",
              "      border: none;\n",
              "      border-radius: 50%;\n",
              "      cursor: pointer;\n",
              "      display: none;\n",
              "      fill: #1967D2;\n",
              "      height: 32px;\n",
              "      padding: 0 0 0 0;\n",
              "      width: 32px;\n",
              "    }\n",
              "\n",
              "    .colab-df-convert:hover {\n",
              "      background-color: #E2EBFA;\n",
              "      box-shadow: 0px 1px 2px rgba(60, 64, 67, 0.3), 0px 1px 3px 1px rgba(60, 64, 67, 0.15);\n",
              "      fill: #174EA6;\n",
              "    }\n",
              "\n",
              "    [theme=dark] .colab-df-convert {\n",
              "      background-color: #3B4455;\n",
              "      fill: #D2E3FC;\n",
              "    }\n",
              "\n",
              "    [theme=dark] .colab-df-convert:hover {\n",
              "      background-color: #434B5C;\n",
              "      box-shadow: 0px 1px 3px 1px rgba(0, 0, 0, 0.15);\n",
              "      filter: drop-shadow(0px 1px 2px rgba(0, 0, 0, 0.3));\n",
              "      fill: #FFFFFF;\n",
              "    }\n",
              "  </style>\n",
              "\n",
              "      <script>\n",
              "        const buttonEl =\n",
              "          document.querySelector('#df-f509a644-1fbe-4ac7-a5c9-1b7c482ff8b4 button.colab-df-convert');\n",
              "        buttonEl.style.display =\n",
              "          google.colab.kernel.accessAllowed ? 'block' : 'none';\n",
              "\n",
              "        async function convertToInteractive(key) {\n",
              "          const element = document.querySelector('#df-f509a644-1fbe-4ac7-a5c9-1b7c482ff8b4');\n",
              "          const dataTable =\n",
              "            await google.colab.kernel.invokeFunction('convertToInteractive',\n",
              "                                                     [key], {});\n",
              "          if (!dataTable) return;\n",
              "\n",
              "          const docLinkHtml = 'Like what you see? Visit the ' +\n",
              "            '<a target=\"_blank\" href=https://colab.research.google.com/notebooks/data_table.ipynb>data table notebook</a>'\n",
              "            + ' to learn more about interactive tables.';\n",
              "          element.innerHTML = '';\n",
              "          dataTable['output_type'] = 'display_data';\n",
              "          await google.colab.output.renderOutput(dataTable, element);\n",
              "          const docLink = document.createElement('div');\n",
              "          docLink.innerHTML = docLinkHtml;\n",
              "          element.appendChild(docLink);\n",
              "        }\n",
              "      </script>\n",
              "    </div>\n",
              "  </div>\n",
              "  "
            ]
          },
          "metadata": {},
          "execution_count": 8
        }
      ]
    },
    {
      "cell_type": "markdown",
      "source": [
        "# Exercise number 1"
      ],
      "metadata": {
        "id": "Ncl5EjK8FbhX"
      }
    },
    {
      "cell_type": "markdown",
      "source": [
        "For the `mammals` data perform as much data review and pre-processing as possible:\n",
        "1. Show the distibution of data.\n",
        "2. Plot variables (histograms for both attributes; and for single attributes), violin plots, provide a pair plot, find correlations.\n",
        "3. Perform basic statistical analysis: how many samples? what are the means, standard deviations, min, max, quartile values?\n",
        "4. Can we see outliers? At least a box plot can be helpful. BTW. do we really have outliers here? When you cut 'outliers' how other plots look like?\n",
        "5. Any missing or correctable data?\n",
        "6. Feature selection, extraction?\n",
        "7. Transformation of data: maxmin or z-score scaler would be helpful. How does it influence correlations?"
      ],
      "metadata": {
        "id": "L0lzQLndFkgv"
      }
    },
    {
      "cell_type": "code",
      "source": [
        "#@title SOLUTION Exercise no. 1\n",
        "\n",
        "print('Basic statistical description:\\n', mammals.describe())\n",
        "# mammals_cut = mammals.drop(mammals[(mammals['body'] >= 48) & (mammals['brain'] >= 166)].index)\n",
        "mammals_cut = mammals.drop(mammals[(mammals['body'] >= 48) | (mammals['brain'] >= 166)].index)\n",
        "# print(mammals_cut)\n",
        "print(mammals_cut.describe())"
      ],
      "metadata": {
        "colab": {
          "base_uri": "https://localhost:8080/"
        },
        "id": "MdRS1vtFGZy8",
        "outputId": "e61978b9-c223-4ef3-c93e-4e994a95c8f4"
      },
      "execution_count": null,
      "outputs": [
        {
          "output_type": "stream",
          "name": "stdout",
          "text": [
            "Basic statistical description:\n",
            "               body        brain\n",
            "count    62.000000    62.000000\n",
            "mean    198.789984   283.134194\n",
            "std     899.158011   930.278942\n",
            "min       0.005000     0.140000\n",
            "25%       0.600000     4.250000\n",
            "50%       3.342500    17.250000\n",
            "75%      48.202500   166.000000\n",
            "max    6654.000000  5712.000000\n",
            "            body       brain\n",
            "count  44.000000   44.000000\n",
            "mean    4.110659   21.836818\n",
            "std     8.425899   32.605560\n",
            "min     0.005000    0.140000\n",
            "25%     0.180500    2.575000\n",
            "50%     1.195000    7.350000\n",
            "75%     3.500000   22.000000\n",
            "max    36.330000  119.500000\n"
          ]
        }
      ]
    },
    {
      "cell_type": "code",
      "source": [
        "labels_mammals = ['body', 'brain']\n",
        "\n",
        "# Histogram for both attributes: all data\n",
        "plt.figure()\n",
        "mammals[['body', 'brain']].plot.hist(bins=10, alpha=1, figsize=(10, 8))\n",
        "plt.title('All data')\n",
        "plt.show()\n"
      ],
      "metadata": {
        "colab": {
          "base_uri": "https://localhost:8080/",
          "height": 519
        },
        "id": "Qdd7M-74HNwX",
        "outputId": "f7cd92cb-16e1-4398-d0fb-6690d4bba1f5"
      },
      "execution_count": null,
      "outputs": [
        {
          "output_type": "display_data",
          "data": {
            "text/plain": [
              "<Figure size 432x288 with 0 Axes>"
            ]
          },
          "metadata": {}
        },
        {
          "output_type": "display_data",
          "data": {
            "text/plain": [
              "<Figure size 720x576 with 1 Axes>"
            ],
            "image/png": "[encoded data removed]"
          },
          "metadata": {}
        }
      ]
    },
    {
      "cell_type": "code",
      "source": [
        "# Histogram for both attributes: `typical` data\n",
        "plt.figure()\n",
        "mammals_cut[['body', 'brain']].plot.hist(bins=10, alpha=0.5, figsize=(10, 8))\n",
        "plt.title('Typical data')\n",
        "plt.show()\n"
      ],
      "metadata": {
        "colab": {
          "base_uri": "https://localhost:8080/",
          "height": 519
        },
        "id": "x1UF-8B8JYgH",
        "outputId": "58156cd1-8d7a-49ff-ee5f-201594ea1958"
      },
      "execution_count": null,
      "outputs": [
        {
          "output_type": "display_data",
          "data": {
            "text/plain": [
              "<Figure size 432x288 with 0 Axes>"
            ]
          },
          "metadata": {}
        },
        {
          "output_type": "display_data",
          "data": {
            "text/plain": [
              "<Figure size 720x576 with 1 Axes>"
            ],
            "image/png": "[encoded data removed]"
          },
          "metadata": {}
        }
      ]
    },
    {
      "cell_type": "code",
      "source": [
        "# Histogram for body with KDE: all data\n",
        "plt.figure()\n",
        "sns.displot(data=mammals[['body']], x=\"body\", bins=10, kde=True, height=10, aspect=1.0)\n",
        "plt.title('All data')\n",
        "plt.show()"
      ],
      "metadata": {
        "colab": {
          "base_uri": "https://localhost:8080/",
          "height": 759
        },
        "id": "pviyhsgQJglP",
        "outputId": "fe455cec-3d43-47e0-f4cb-8bd19a3caecd"
      },
      "execution_count": null,
      "outputs": [
        {
          "output_type": "display_data",
          "data": {
            "text/plain": [
              "<Figure size 432x288 with 0 Axes>"
            ]
          },
          "metadata": {}
        },
        {
          "output_type": "display_data",
          "data": {
            "text/plain": [
              "<Figure size 720x720 with 1 Axes>"
            ],
            "image/png": "[encoded data removed]"
          },
          "metadata": {}
        }
      ]
    },
    {
      "cell_type": "code",
      "source": [
        "# Histogram for body with KDE: `typical' data\n",
        "plt.figure()\n",
        "sns.displot(data=mammals_cut[['body']], x=\"body\", bins=10, kde=True, height=10, aspect=1.0)\n",
        "plt.title('Typical data')\n",
        "plt.show()"
      ],
      "metadata": {
        "colab": {
          "base_uri": "https://localhost:8080/",
          "height": 759
        },
        "id": "CTGzZuNxJ5cl",
        "outputId": "17552fec-2263-4612-f1c0-bea2a987c07c"
      },
      "execution_count": null,
      "outputs": [
        {
          "output_type": "display_data",
          "data": {
            "text/plain": [
              "<Figure size 432x288 with 0 Axes>"
            ]
          },
          "metadata": {}
        },
        {
          "output_type": "display_data",
          "data": {
            "text/plain": [
              "<Figure size 720x720 with 1 Axes>"
            ],
            "image/png": "[encoded data removed]"
          },
          "metadata": {}
        }
      ]
    },
    {
      "cell_type": "code",
      "source": [
        "# Histogram for brain with KDE: all data\n",
        "plt.figure()\n",
        "sns.displot(data=mammals[['brain']], x=\"brain\", bins=10, kde=True, height=10, aspect=1.0)\n",
        "plt.title('All data')\n",
        "plt.show()"
      ],
      "metadata": {
        "colab": {
          "base_uri": "https://localhost:8080/",
          "height": 759
        },
        "id": "aphHEJH1J-Jn",
        "outputId": "c57004b1-9fc9-46c6-e274-345ad9f5ddf6"
      },
      "execution_count": null,
      "outputs": [
        {
          "output_type": "display_data",
          "data": {
            "text/plain": [
              "<Figure size 432x288 with 0 Axes>"
            ]
          },
          "metadata": {}
        },
        {
          "output_type": "display_data",
          "data": {
            "text/plain": [
              "<Figure size 720x720 with 1 Axes>"
            ],
            "image/png": "[encoded data removed]"
          },
          "metadata": {}
        }
      ]
    },
    {
      "cell_type": "code",
      "source": [
        "# Histogram for brain with KDE: `typical' data\n",
        "plt.figure()\n",
        "sns.displot(data=mammals_cut[['brain']], x=\"brain\", bins=10, kde=True, height=10, aspect=1.0)\n",
        "plt.title('Typical data')\n",
        "plt.show()"
      ],
      "metadata": {
        "colab": {
          "base_uri": "https://localhost:8080/",
          "height": 759
        },
        "id": "dSOW8607KKrS",
        "outputId": "35e24bea-a8d1-445f-f73d-2a44a667c3df"
      },
      "execution_count": null,
      "outputs": [
        {
          "output_type": "display_data",
          "data": {
            "text/plain": [
              "<Figure size 432x288 with 0 Axes>"
            ]
          },
          "metadata": {}
        },
        {
          "output_type": "display_data",
          "data": {
            "text/plain": [
              "<Figure size 720x720 with 1 Axes>"
            ],
            "image/png": "[encoded data removed]"
          },
          "metadata": {}
        }
      ]
    },
    {
      "cell_type": "code",
      "source": [
        "# Violin plot: all data\n",
        "combined_data = mammals[['body', 'brain']].melt(var_name='organ', value_name='mass')\n",
        "plt.figure(figsize=(10, 8))\n",
        "sns.violinplot(x='organ', y='mass', data=combined_data)\n",
        "# plt.xlabel('')\n",
        "plt.ylabel('mass')\n",
        "plt.title('All data')\n",
        "plt.show()"
      ],
      "metadata": {
        "colab": {
          "base_uri": "https://localhost:8080/",
          "height": 518
        },
        "id": "BY91pZgXKPRm",
        "outputId": "5622382a-a756-4b97-95b1-13c944744374"
      },
      "execution_count": null,
      "outputs": [
        {
          "output_type": "display_data",
          "data": {
            "text/plain": [
              "<Figure size 720x576 with 1 Axes>"
            ],
            "image/png": "[encoded data removed]"
          },
          "metadata": {}
        }
      ]
    },
    {
      "cell_type": "code",
      "source": [
        "# Violin plot: `typical` data\n",
        "combined_data_cut = mammals_cut[['body', 'brain']].melt(var_name='organ', value_name='mass')\n",
        "plt.figure(figsize=(10, 8))\n",
        "sns.violinplot(x='organ', y='mass', data=combined_data_cut)\n",
        "# plt.xlabel('')\n",
        "plt.ylabel('mass')\n",
        "plt.title('All data')\n",
        "plt.show()"
      ],
      "metadata": {
        "colab": {
          "base_uri": "https://localhost:8080/",
          "height": 518
        },
        "id": "lJZZjVctN02m",
        "outputId": "3331a117-9d2a-4bd2-a1de-fd3d372bd9bb"
      },
      "execution_count": null,
      "outputs": [
        {
          "output_type": "display_data",
          "data": {
            "text/plain": [
              "<Figure size 720x576 with 1 Axes>"
            ],
            "image/png": "[encoded data removed]"
          },
          "metadata": {}
        }
      ]
    },
    {
      "cell_type": "code",
      "source": [
        "# Box plot: all data\n",
        "plt.figure(figsize=(10, 8))\n",
        "ax = plt.axes()\n",
        "mammals_array = mammals[labels_mammals].to_numpy()\n",
        "plt.boxplot(mammals_array)\n",
        "ax.set_xticklabels(labels_mammals)\n",
        "plt.title('All data')\n",
        "plt.show()"
      ],
      "metadata": {
        "colab": {
          "base_uri": "https://localhost:8080/",
          "height": 501
        },
        "id": "UyjX1SJxN7Vq",
        "outputId": "f308ee4e-33d6-43f4-8bf2-720cebc4ad0c"
      },
      "execution_count": null,
      "outputs": [
        {
          "output_type": "display_data",
          "data": {
            "text/plain": [
              "<Figure size 720x576 with 1 Axes>"
            ],
            "image/png": "[encoded data removed]"
          },
          "metadata": {}
        }
      ]
    },
    {
      "cell_type": "code",
      "source": [
        "# Box plot: `typical` data\n",
        "plt.figure(figsize=(10, 8))\n",
        "ax = plt.axes()\n",
        "mammals_array_cut = mammals_cut[labels_mammals].to_numpy()\n",
        "plt.boxplot(mammals_array_cut)\n",
        "ax.set_xticklabels(labels_mammals)\n",
        "plt.title('Typical data')\n",
        "plt.show()"
      ],
      "metadata": {
        "colab": {
          "base_uri": "https://localhost:8080/",
          "height": 501
        },
        "id": "g4DN-oVON-FD",
        "outputId": "873cadec-6349-4ccd-f433-b9679127dae5"
      },
      "execution_count": null,
      "outputs": [
        {
          "output_type": "display_data",
          "data": {
            "text/plain": [
              "<Figure size 720x576 with 1 Axes>"
            ],
            "image/png": "[encoded data removed]"
          },
          "metadata": {}
        }
      ]
    },
    {
      "cell_type": "code",
      "source": [
        "# Max-min scaling\n",
        "from sklearn.preprocessing import MinMaxScaler\n",
        "\n",
        "scaler_mm = MinMaxScaler()\n",
        "mammals_mm = pd.DataFrame(scaler_mm.fit_transform(\n",
        "    mammals[labels_mammals]),\n",
        "    columns=labels_mammals\n",
        "    )\n",
        "\n",
        "print(mammals_mm.groupby(lambda idx: 0).agg(['min','mean','max','std']))"
      ],
      "metadata": {
        "colab": {
          "base_uri": "https://localhost:8080/"
        },
        "id": "1bhE24msOG7k",
        "outputId": "6cffffaf-e222-4774-b7a2-c27dd63e7214"
      },
      "execution_count": null,
      "outputs": [
        {
          "output_type": "stream",
          "name": "stdout",
          "text": [
            "  body                          brain                         \n",
            "   min      mean  max       std   min      mean  max       std\n",
            "0  0.0  0.029875  1.0  0.135131   0.0  0.049545  1.0  0.162868\n"
          ]
        }
      ]
    },
    {
      "cell_type": "code",
      "source": [
        "plt.figure(figsize=(10, 8))\n",
        "ax = plt.axes()\n",
        "mammals_mm = mammals_mm[labels_mammals].to_numpy()\n",
        "plt.boxplot(mammals_mm)\n",
        "ax.set_xticklabels(labels_mammals);\n",
        "plt.show()"
      ],
      "metadata": {
        "colab": {
          "base_uri": "https://localhost:8080/",
          "height": 485
        },
        "id": "ratMsiSWOOpJ",
        "outputId": "600e641b-04cc-49d5-e176-3555049e7d57"
      },
      "execution_count": null,
      "outputs": [
        {
          "output_type": "display_data",
          "data": {
            "text/plain": [
              "<Figure size 720x576 with 1 Axes>"
            ],
            "image/png": "[encoded data removed]"
          },
          "metadata": {}
        }
      ]
    },
    {
      "cell_type": "code",
      "source": [
        "# z-Score scaling\n",
        "from sklearn.preprocessing import StandardScaler\n",
        "\n",
        "scaler_z = StandardScaler()\n",
        "mammals_z = pd.DataFrame(scaler_z.fit_transform(\n",
        "    mammals[labels_mammals]),\n",
        "    columns=labels_mammals\n",
        "    )\n",
        "\n",
        "print(mammals_z.groupby(lambda idx: 0).agg(['min','mean','max','std']))"
      ],
      "metadata": {
        "colab": {
          "base_uri": "https://localhost:8080/"
        },
        "id": "eFd_JEY1OVnE",
        "outputId": "2728bcb6-8ad6-4a55-87cb-b1c64d10f261"
      },
      "execution_count": null,
      "outputs": [
        {
          "output_type": "stream",
          "name": "stdout",
          "text": [
            "       body                                       brain                \\\n",
            "        min          mean       max       std       min          mean   \n",
            "0 -0.222884 -1.029642e-17  7.237778  1.008163 -0.306687 -4.297638e-17   \n",
            "\n",
            "                       \n",
            "        max       std  \n",
            "0  5.883379  1.008163  \n"
          ]
        }
      ]
    },
    {
      "cell_type": "code",
      "source": [
        "plt.figure(figsize=(10, 8))\n",
        "ax = plt.axes()\n",
        "mammals_z = mammals_z[labels_mammals].to_numpy()\n",
        "plt.boxplot(mammals_z)\n",
        "ax.set_xticklabels(labels_mammals);\n",
        "plt.show()"
      ],
      "metadata": {
        "colab": {
          "base_uri": "https://localhost:8080/",
          "height": 485
        },
        "id": "zWKWWwsNOZkz",
        "outputId": "fb885331-3094-440d-f6f2-e13bb543796d"
      },
      "execution_count": null,
      "outputs": [
        {
          "output_type": "display_data",
          "data": {
            "text/plain": [
              "<Figure size 720x576 with 1 Axes>"
            ],
            "image/png": "[encoded data removed]"
          },
          "metadata": {}
        }
      ]
    },
    {
      "cell_type": "code",
      "source": [
        "# Heatmap of collelations: all data = typical data\n",
        "plt.figure(figsize=(8, 8))\n",
        "correlation_matrix = mammals.corr().round(2)\n",
        "sns.heatmap(data=correlation_matrix, annot=True, cmap='coolwarm')\n",
        "plt.title(\"Non-normalized data\")\n",
        "plt.show()\n",
        "plt.figure(figsize=(8, 8))\n",
        "correlation_matrix = np.corrcoef(mammals_z.T)\n",
        "sns.heatmap(data=correlation_matrix, annot=True, vmin=-1, vmax=1, cmap='coolwarm', xticklabels=labels_mammals,yticklabels=labels_mammals)\n",
        "plt.title(\"z-Scaled data\")\n",
        "plt.show()"
      ],
      "metadata": {
        "colab": {
          "base_uri": "https://localhost:8080/",
          "height": 985
        },
        "id": "fbPynXhhOqV3",
        "outputId": "a73966b9-2d02-44d4-b155-65b5345813db"
      },
      "execution_count": null,
      "outputs": [
        {
          "output_type": "display_data",
          "data": {
            "text/plain": [
              "<Figure size 576x576 with 2 Axes>"
            ],
            "image/png": "[encoded data removed]"
          },
          "metadata": {}
        },
        {
          "output_type": "display_data",
          "data": {
            "text/plain": [
              "<Figure size 576x576 with 2 Axes>"
            ],
            "image/png": "[encoded data removed]"
          },
          "metadata": {}
        }
      ]
    },
    {
      "cell_type": "code",
      "source": [
        "# Pair plots\n",
        "# sns.pairplot(iris, hue='Mammal')\n",
        "sns.pairplot(mammals,height=7, aspect=1.0)\n",
        "# plt.show()"
      ],
      "metadata": {
        "colab": {
          "base_uri": "https://localhost:8080/",
          "height": 1000
        },
        "id": "69yIGG0RO0gL",
        "outputId": "c09f4efa-77c9-4ce2-eb80-7c40f1d2e036"
      },
      "execution_count": null,
      "outputs": [
        {
          "output_type": "execute_result",
          "data": {
            "text/plain": [
              "<seaborn.axisgrid.PairGrid at 0x7f1eef932c40>"
            ]
          },
          "metadata": {},
          "execution_count": 58
        },
        {
          "output_type": "display_data",
          "data": {
            "text/plain": [
              "<Figure size 1008x1008 with 6 Axes>"
            ],
            "image/png": "[encoded data removed]"
          },
          "metadata": {}
        }
      ]
    },
    {
      "cell_type": "markdown",
      "source": [
        "# Machine learning models"
      ],
      "metadata": {
        "id": "Z8d3uePbTmLU"
      }
    },
    {
      "cell_type": "code",
      "source": [
        "#@markdown Let us retrieve the basic two columns\n",
        "\n",
        "body_data = mammals[['body']] # this is a dataframe\n",
        "# body_data = mammals['body'] # this is a series of data, be watchful about that!\n",
        "\n",
        "print(body_data)\n",
        "print(body_data.shape)\n",
        "\n",
        "brain_data = mammals[['brain']]\n",
        "print(brain_data)\n",
        "print(brain_data.shape)"
      ],
      "metadata": {
        "colab": {
          "base_uri": "https://localhost:8080/"
        },
        "id": "5RBKJeKHTqs9",
        "outputId": "14f6f917-fcaf-4b99-f991-83162f3d0a82"
      },
      "execution_count": null,
      "outputs": [
        {
          "output_type": "stream",
          "name": "stdout",
          "text": [
            "       body\n",
            "0     3.385\n",
            "1     0.480\n",
            "2     1.350\n",
            "3   465.000\n",
            "4    36.330\n",
            "..      ...\n",
            "57  160.000\n",
            "58    0.900\n",
            "59    1.620\n",
            "60    0.104\n",
            "61    4.235\n",
            "\n",
            "[62 rows x 1 columns]\n",
            "(62, 1)\n",
            "    brain\n",
            "0    44.5\n",
            "1    15.5\n",
            "2     8.1\n",
            "3   423.0\n",
            "4   119.5\n",
            "..    ...\n",
            "57  169.0\n",
            "58    2.6\n",
            "59   11.4\n",
            "60    2.5\n",
            "61   50.4\n",
            "\n",
            "[62 rows x 1 columns]\n",
            "(62, 1)\n"
          ]
        }
      ]
    },
    {
      "cell_type": "code",
      "source": [
        "print(body_data)"
      ],
      "metadata": {
        "colab": {
          "base_uri": "https://localhost:8080/"
        },
        "id": "-q3zF0KKuNFC",
        "outputId": "c008d1f5-2473-4432-8eb9-38dd829aaaee"
      },
      "execution_count": null,
      "outputs": [
        {
          "output_type": "stream",
          "name": "stdout",
          "text": [
            "       body\n",
            "0     3.385\n",
            "1     0.480\n",
            "2     1.350\n",
            "3   465.000\n",
            "4    36.330\n",
            "..      ...\n",
            "57  160.000\n",
            "58    0.900\n",
            "59    1.620\n",
            "60    0.104\n",
            "61    4.235\n",
            "\n",
            "[62 rows x 1 columns]\n"
          ]
        }
      ]
    },
    {
      "cell_type": "code",
      "source": [
        "print(brain_data)"
      ],
      "metadata": {
        "colab": {
          "base_uri": "https://localhost:8080/"
        },
        "id": "FqST0gwQuQ5t",
        "outputId": "84a6b1c2-8ff8-4492-8938-9a2cbdd72a91"
      },
      "execution_count": null,
      "outputs": [
        {
          "output_type": "stream",
          "name": "stdout",
          "text": [
            "    brain\n",
            "0    44.5\n",
            "1    15.5\n",
            "2     8.1\n",
            "3   423.0\n",
            "4   119.5\n",
            "..    ...\n",
            "57  169.0\n",
            "58    2.6\n",
            "59   11.4\n",
            "60    2.5\n",
            "61   50.4\n",
            "\n",
            "[62 rows x 1 columns]\n"
          ]
        }
      ]
    },
    {
      "cell_type": "markdown",
      "source": [
        "Let's look on relationship between body mass and brain mass. Let's visualiza our data."
      ],
      "metadata": {
        "id": "IE8HvayjTzvD"
      }
    },
    {
      "cell_type": "code",
      "source": [
        "#@title Visualization of the data\n",
        "\n",
        "plt.figure(figsize=(10, 10))\n",
        "plt.scatter(body_data,brain_data)\n",
        "\n",
        "plt.xlabel(\"Body [kg]\", fontsize=16)\n",
        "plt.ylabel(\"Brain [g]\", fontsize=16)\n",
        "plt.title(\"Mammals: body vs. brain masses\", fontsize=18)\n",
        "plt.show()\n",
        "\n",
        "mammals_sorted = mammals.sort_values(by='brain', ascending=True)\n",
        "plt.figure(figsize=(10, 10))\n",
        "plt.scatter(mammals_sorted['body'].iloc[:-3],mammals_sorted['brain'].iloc[:-3])\n",
        "plt.xlabel(\"Body [kg]\", fontsize=16)\n",
        "plt.ylabel(\"Brain [g]\", fontsize=16)\n",
        "plt.title(\"Mammals: body vs. brain masses [a few outliers cut]\", fontsize=18)\n",
        "plt.show()"
      ],
      "metadata": {
        "colab": {
          "base_uri": "https://localhost:8080/",
          "height": 1000
        },
        "id": "TaDJ0XgrT9Ox",
        "outputId": "cd94854e-2785-4672-8dec-cc54d50586b9"
      },
      "execution_count": null,
      "outputs": [
        {
          "output_type": "display_data",
          "data": {
            "text/plain": [
              "<Figure size 720x720 with 1 Axes>"
            ],
            "image/png": "[encoded data removed]"
          },
          "metadata": {}
        },
        {
          "output_type": "display_data",
          "data": {
            "text/plain": [
              "<Figure size 720x720 with 1 Axes>"
            ],
            "image/png": "[encoded data removed]"
          },
          "metadata": {}
        }
      ]
    },
    {
      "cell_type": "code",
      "source": [
        "#@markdown Additionally, we can look for the extreme values...\n",
        "\n",
        "# print(mammals['body'].min())\n",
        "print(\"\\nAnimal with the smallest body: \", mammals.loc[mammals['body'].idxmin()])\n",
        "print(\"\\nAnimal with the smallest brain: \", mammals.loc[mammals['brain'].idxmin()])\n",
        "print(\"\\nAnimal with the heaviest body: \", mammals.loc[mammals['body'].idxmax()])\n",
        "print(\"\\nAnimal with the heaviest brain: \", mammals.loc[mammals['brain'].idxmax()])"
      ],
      "metadata": {
        "id": "CmYuuV0MURoh",
        "colab": {
          "base_uri": "https://localhost:8080/"
        },
        "outputId": "b0d592fb-55b6-47d5-aba3-3c948910320c"
      },
      "execution_count": null,
      "outputs": [
        {
          "output_type": "stream",
          "name": "stdout",
          "text": [
            "\n",
            "Animal with the smallest body:  Mammal    Lesser short-tailed shrew\n",
            "body                          0.005\n",
            "brain                          0.14\n",
            "Name: 13, dtype: object\n",
            "\n",
            "Animal with the smallest brain:  Mammal    Lesser short-tailed shrew\n",
            "body                          0.005\n",
            "brain                          0.14\n",
            "Name: 13, dtype: object\n",
            "\n",
            "Animal with the heaviest body:  Mammal    African elephant\n",
            "body                6654.0\n",
            "brain               5712.0\n",
            "Name: 32, dtype: object\n",
            "\n",
            "Animal with the heaviest brain:  Mammal    African elephant\n",
            "body                6654.0\n",
            "brain               5712.0\n",
            "Name: 32, dtype: object\n"
          ]
        }
      ]
    },
    {
      "cell_type": "markdown",
      "source": [
        "There is a correlation between body weight and brain weight"
      ],
      "metadata": {
        "id": "83nQBTlytUUd"
      }
    },
    {
      "cell_type": "code",
      "source": [
        "#@markdown On the other hand, this might be not always the case...\n",
        "\n",
        "print('Mammal with median body: \\n ', \\\n",
        "      mammals[(mammals['body'] <= mammals['body'].quantile(q=0.505)) \\\n",
        "              & (mammals['body'] >= mammals['body'].quantile(q=0.49))])\n",
        "print('Mammal with median brain: \\n ', \\\n",
        "      mammals[(mammals['brain'] <= mammals['brain'].quantile(q=0.505)) \\\n",
        "              & (mammals['brain'] >= mammals['brain'].quantile(q=0.49))])"
      ],
      "metadata": {
        "colab": {
          "base_uri": "https://localhost:8080/"
        },
        "id": "5g_0MS_ntY_H",
        "outputId": "a9dc5697-9975-4af4-b4bf-95b93909ad87"
      },
      "execution_count": null,
      "outputs": [
        {
          "output_type": "stream",
          "name": "stdout",
          "text": [
            "Mammal with median body: \n",
            "     Mammal  body  brain\n",
            "24    Cat   3.3   25.6\n",
            "Mammal with median brain: \n",
            "                     Mammal  body  brain\n",
            "36  Yellow-bellied marmot  4.05   17.0\n"
          ]
        }
      ]
    },
    {
      "cell_type": "markdown",
      "source": [
        "# Exercise number 2"
      ],
      "metadata": {
        "id": "HwXhKkKvtkuc"
      }
    },
    {
      "cell_type": "markdown",
      "source": [
        "For the `mammals` data perform linear regression with `sklearn`:\n",
        "1. Define the linear regression model `LinearRegression()`. We will need methods `.fit` and `.predict`. For description you can look at the [help website](https://scikit-learn.org/stable/modules/generated/sklearn.linear_model.LinearRegression.html).\n",
        "2. Perform calculations three times in different ways:\n",
        "  *   For the whole set of data (`sk_regr`). Try to find outliers on the basis of regression.\n",
        "  *   For the set of data without outliers (`sk_regr_cut`). This operation might resemble work of a biologist, and not a machine learning specialist.\n",
        "  *   Divide the whole set of data into two subsets: training and test set (`sk_regr_ml`). Predict the values for the samples in the test set on the basis of the regression found for the training set.\n",
        "3. You can assume that `body_data` is our independent variables (input to the model), while `brain_data` is our dependent variables (predicted).\n",
        "3. Fit the model to training data. As for time being do not transform the data.\n",
        "4. Print the coefficient (`.coef_`) and intercept (`.intercept_`).\n",
        "5. Visualize the results: plot the regression line on the data."
      ],
      "metadata": {
        "id": "XbuBFBMpttMv"
      }
    },
    {
      "cell_type": "code",
      "source": [
        "#@title SOLUTION Exercise no. 2\n",
        "#@markdown Regression with Scikit-learn: all the data\n",
        "\n",
        "from sklearn import linear_model\n",
        "\n",
        "# we call our linear regression model `sk_regr`\n",
        "sk_regr = linear_model.LinearRegression()\n",
        "sk_regr.fit(body_data,brain_data)\n",
        "# body_data: independent variables\n",
        "# brain_data: dependent variables\n",
        "\n",
        "print(f'Coefficient = {sk_regr.coef_}')\n",
        "print(f'Intercept = {sk_regr.intercept_}')"
      ],
      "metadata": {
        "colab": {
          "base_uri": "https://localhost:8080/"
        },
        "id": "3l8Jm6jyuXsj",
        "outputId": "783f9953-cf9a-49e5-e9fe-e3830488ec35"
      },
      "execution_count": null,
      "outputs": [
        {
          "output_type": "stream",
          "name": "stdout",
          "text": [
            "Coefficient = [[0.96649637]]\n",
            "Intercept = [91.00439621]\n"
          ]
        }
      ]
    },
    {
      "cell_type": "code",
      "source": [
        "range1 = np.linspace(0,7000,10)\n",
        "#print(range1)\n",
        "new_body = range1[:,np.newaxis]\n",
        "print(new_body)\n",
        "#print(range1,new_body)"
      ],
      "metadata": {
        "colab": {
          "base_uri": "https://localhost:8080/"
        },
        "id": "05Vu5of6uhTW",
        "outputId": "05622724-38c3-424f-eff7-76685d128ee7"
      },
      "execution_count": null,
      "outputs": [
        {
          "output_type": "stream",
          "name": "stdout",
          "text": [
            "[[   0.        ]\n",
            " [ 777.77777778]\n",
            " [1555.55555556]\n",
            " [2333.33333333]\n",
            " [3111.11111111]\n",
            " [3888.88888889]\n",
            " [4666.66666667]\n",
            " [5444.44444444]\n",
            " [6222.22222222]\n",
            " [7000.        ]]\n"
          ]
        }
      ]
    },
    {
      "cell_type": "code",
      "source": [
        "brain_pred = sk_regr.predict(new_body)"
      ],
      "metadata": {
        "colab": {
          "base_uri": "https://localhost:8080/"
        },
        "id": "zzDGhl8QvQqT",
        "outputId": "cd4c0c51-9050-4ba3-8da6-e580d3a49d28"
      },
      "execution_count": null,
      "outputs": [
        {
          "output_type": "stream",
          "name": "stderr",
          "text": [
            "/usr/local/lib/python3.9/dist-packages/sklearn/base.py:439: UserWarning: X does not have valid feature names, but LinearRegression was fitted with feature names\n",
            "  warnings.warn(\n"
          ]
        }
      ]
    },
    {
      "cell_type": "code",
      "source": [
        "plt.scatter(mammals['body'],mammals['brain'])\n",
        "#plt.scatter(mammals['body'],mammals['brain'])\n",
        "plt.xlabel(\"Body [kg]\", fontsize=16)\n",
        "plt.ylabel(\"Brain [g]\", fontsize=16)\n",
        "plt.title(\"Mammals: body vs. brain masses\", fontsize=18)\n",
        "plt.plot(new_body,brain_pred,'r',label=\"Regression line\",linewidth=2)\n",
        "plt.legend(loc=4)\n",
        "plt.show()"
      ],
      "metadata": {
        "colab": {
          "base_uri": "https://localhost:8080/",
          "height": 307
        },
        "id": "LlVnf9oEvUYp",
        "outputId": "8395cbd1-9ef9-48c7-8bf7-f7536c456fe2"
      },
      "execution_count": null,
      "outputs": [
        {
          "output_type": "display_data",
          "data": {
            "text/plain": [
              "<Figure size 432x288 with 1 Axes>"
            ],
            "image/png": "[encoded data removed]"
          },
          "metadata": {}
        }
      ]
    },
    {
      "cell_type": "code",
      "source": [
        "x = body_data\n",
        "y = brain_data\n",
        "# reg = LinearRegression().fit(x.values.reshape(-1, 1), y)\n",
        "# y_pred = reg.predict(x.values.reshape(-1, 1))\n",
        "y_pred = sk_regr.predict(body_data)\n",
        "sq_error = (y - y_pred)**2\n",
        "mammals['sq_errors_lr_all'] = sq_error\n",
        "print(mammals.describe().round(2))\n",
        "plt.scatter(body_data,mammals['sq_errors_lr_all'])\n",
        "plt.xlabel(\"Body [kg]\", fontsize=16)\n",
        "plt.ylabel(\"Squared error\", fontsize=16)\n",
        "plt.title(\"Mammals: body vs. sq. error\", fontsize=18)\n",
        "plt.show()\n",
        "mammals"
      ],
      "metadata": {
        "colab": {
          "base_uri": "https://localhost:8080/",
          "height": 875
        },
        "id": "GVqb7JFcvnt9",
        "outputId": "d5d6a979-3a27-41f2-adc0-b9844a467e0f"
      },
      "execution_count": null,
      "outputs": [
        {
          "output_type": "stream",
          "name": "stdout",
          "text": [
            "          body    brain  sq_errors_lr_all\n",
            "count    62.00    62.00             62.00\n",
            "mean    198.79   283.13         108423.21\n",
            "std     899.16   930.28         561820.48\n",
            "min       0.00     0.14              7.49\n",
            "25%       0.60     4.25           5451.17\n",
            "50%       3.34    17.25           7257.88\n",
            "75%      48.20   166.00           8171.36\n",
            "max    6654.00  5712.00        4203850.47\n"
          ]
        },
        {
          "output_type": "display_data",
          "data": {
            "text/plain": [
              "<Figure size 432x288 with 1 Axes>"
            ],
            "image/png": "[encoded data removed]"
          },
          "metadata": {}
        },
        {
          "output_type": "execute_result",
          "data": {
            "text/plain": [
              "             Mammal     body  brain  sq_errors_lr_all\n",
              "0        Arctic fox    3.385   44.5       2477.648823\n",
              "1        Owl monkey    0.480   15.5       5771.184802\n",
              "2   Mountain beaver    1.350    8.1       7091.183690\n",
              "3               Cow  465.000  423.0      13788.679280\n",
              "4         Grey wolf   36.330  119.5         43.787458\n",
              "..              ...      ...    ...               ...\n",
              "57  Brazilian tapir  160.000  169.0       5874.274383\n",
              "58           Tenrec    0.900    2.6       7969.890452\n",
              "59        Phalanger    1.620   11.4       6588.588433\n",
              "60       Tree shrew    0.104    2.5       7850.830400\n",
              "61          Red fox    4.235   50.4       1997.867250\n",
              "\n",
              "[62 rows x 4 columns]"
            ],
            "text/html": [
              "\n",
              "  <div id=\"df-0a522d53-812d-4a98-84cf-c9a719b6dc3d\">\n",
              "    <div class=\"colab-df-container\">\n",
              "      <div>\n",
              "<style scoped>\n",
              "    .dataframe tbody tr th:only-of-type {\n",
              "        vertical-align: middle;\n",
              "    }\n",
              "\n",
              "    .dataframe tbody tr th {\n",
              "        vertical-align: top;\n",
              "    }\n",
              "\n",
              "    .dataframe thead th {\n",
              "        text-align: right;\n",
              "    }\n",
              "</style>\n",
              "<table border=\"1\" class=\"dataframe\">\n",
              "  <thead>\n",
              "    <tr style=\"text-align: right;\">\n",
              "      <th></th>\n",
              "      <th>Mammal</th>\n",
              "      <th>body</th>\n",
              "      <th>brain</th>\n",
              "      <th>sq_errors_lr_all</th>\n",
              "    </tr>\n",
              "  </thead>\n",
              "  <tbody>\n",
              "    <tr>\n",
              "      <th>0</th>\n",
              "      <td>Arctic fox</td>\n",
              "      <td>3.385</td>\n",
              "      <td>44.5</td>\n",
              "      <td>2477.648823</td>\n",
              "    </tr>\n",
              "    <tr>\n",
              "      <th>1</th>\n",
              "      <td>Owl monkey</td>\n",
              "      <td>0.480</td>\n",
              "      <td>15.5</td>\n",
              "      <td>5771.184802</td>\n",
              "    </tr>\n",
              "    <tr>\n",
              "      <th>2</th>\n",
              "      <td>Mountain beaver</td>\n",
              "      <td>1.350</td>\n",
              "      <td>8.1</td>\n",
              "      <td>7091.183690</td>\n",
              "    </tr>\n",
              "    <tr>\n",
              "      <th>3</th>\n",
              "      <td>Cow</td>\n",
              "      <td>465.000</td>\n",
              "      <td>423.0</td>\n",
              "      <td>13788.679280</td>\n",
              "    </tr>\n",
              "    <tr>\n",
              "      <th>4</th>\n",
              "      <td>Grey wolf</td>\n",
              "      <td>36.330</td>\n",
              "      <td>119.5</td>\n",
              "      <td>43.787458</td>\n",
              "    </tr>\n",
              "    <tr>\n",
              "      <th>...</th>\n",
              "      <td>...</td>\n",
              "      <td>...</td>\n",
              "      <td>...</td>\n",
              "      <td>...</td>\n",
              "    </tr>\n",
              "    <tr>\n",
              "      <th>57</th>\n",
              "      <td>Brazilian tapir</td>\n",
              "      <td>160.000</td>\n",
              "      <td>169.0</td>\n",
              "      <td>5874.274383</td>\n",
              "    </tr>\n",
              "    <tr>\n",
              "      <th>58</th>\n",
              "      <td>Tenrec</td>\n",
              "      <td>0.900</td>\n",
              "      <td>2.6</td>\n",
              "      <td>7969.890452</td>\n",
              "    </tr>\n",
              "    <tr>\n",
              "      <th>59</th>\n",
              "      <td>Phalanger</td>\n",
              "      <td>1.620</td>\n",
              "      <td>11.4</td>\n",
              "      <td>6588.588433</td>\n",
              "    </tr>\n",
              "    <tr>\n",
              "      <th>60</th>\n",
              "      <td>Tree shrew</td>\n",
              "      <td>0.104</td>\n",
              "      <td>2.5</td>\n",
              "      <td>7850.830400</td>\n",
              "    </tr>\n",
              "    <tr>\n",
              "      <th>61</th>\n",
              "      <td>Red fox</td>\n",
              "      <td>4.235</td>\n",
              "      <td>50.4</td>\n",
              "      <td>1997.867250</td>\n",
              "    </tr>\n",
              "  </tbody>\n",
              "</table>\n",
              "<p>62 rows × 4 columns</p>\n",
              "</div>\n",
              "      <button class=\"colab-df-convert\" onclick=\"convertToInteractive('df-0a522d53-812d-4a98-84cf-c9a719b6dc3d')\"\n",
              "              title=\"Convert this dataframe to an interactive table.\"\n",
              "              style=\"display:none;\">\n",
              "        \n",
              "  <svg xmlns=\"http://www.w3.org/2000/svg\" height=\"24px\"viewBox=\"0 0 24 24\"\n",
              "       width=\"24px\">\n",
              "    <path d=\"M0 0h24v24H0V0z\" fill=\"none\"/>\n",
              "    <path d=\"M18.56 5.44l.94 2.06.94-2.06 2.06-.94-2.06-.94-.94-2.06-.94 2.06-2.06.94zm-11 1L8.5 8.5l.94-2.06 2.06-.94-2.06-.94L8.5 2.5l-.94 2.06-2.06.94zm10 10l.94 2.06.94-2.06 2.06-.94-2.06-.94-.94-2.06-.94 2.06-2.06.94z\"/><path d=\"M17.41 7.96l-1.37-1.37c-.4-.4-.92-.59-1.43-.59-.52 0-1.04.2-1.43.59L10.3 9.45l-7.72 7.72c-.78.78-.78 2.05 0 2.83L4 21.41c.39.39.9.59 1.41.59.51 0 1.02-.2 1.41-.59l7.78-7.78 2.81-2.81c.8-.78.8-2.07 0-2.86zM5.41 20L4 18.59l7.72-7.72 1.47 1.35L5.41 20z\"/>\n",
              "  </svg>\n",
              "      </button>\n",
              "      \n",
              "  <style>\n",
              "    .colab-df-container {\n",
              "      display:flex;\n",
              "      flex-wrap:wrap;\n",
              "      gap: 12px;\n",
              "    }\n",
              "\n",
              "    .colab-df-convert {\n",
              "      background-color: #E8F0FE;\n",
              "      border: none;\n",
              "      border-radius: 50%;\n",
              "      cursor: pointer;\n",
              "      display: none;\n",
              "      fill: #1967D2;\n",
              "      height: 32px;\n",
              "      padding: 0 0 0 0;\n",
              "      width: 32px;\n",
              "    }\n",
              "\n",
              "    .colab-df-convert:hover {\n",
              "      background-color: #E2EBFA;\n",
              "      box-shadow: 0px 1px 2px rgba(60, 64, 67, 0.3), 0px 1px 3px 1px rgba(60, 64, 67, 0.15);\n",
              "      fill: #174EA6;\n",
              "    }\n",
              "\n",
              "    [theme=dark] .colab-df-convert {\n",
              "      background-color: #3B4455;\n",
              "      fill: #D2E3FC;\n",
              "    }\n",
              "\n",
              "    [theme=dark] .colab-df-convert:hover {\n",
              "      background-color: #434B5C;\n",
              "      box-shadow: 0px 1px 3px 1px rgba(0, 0, 0, 0.15);\n",
              "      filter: drop-shadow(0px 1px 2px rgba(0, 0, 0, 0.3));\n",
              "      fill: #FFFFFF;\n",
              "    }\n",
              "  </style>\n",
              "\n",
              "      <script>\n",
              "        const buttonEl =\n",
              "          document.querySelector('#df-0a522d53-812d-4a98-84cf-c9a719b6dc3d button.colab-df-convert');\n",
              "        buttonEl.style.display =\n",
              "          google.colab.kernel.accessAllowed ? 'block' : 'none';\n",
              "\n",
              "        async function convertToInteractive(key) {\n",
              "          const element = document.querySelector('#df-0a522d53-812d-4a98-84cf-c9a719b6dc3d');\n",
              "          const dataTable =\n",
              "            await google.colab.kernel.invokeFunction('convertToInteractive',\n",
              "                                                     [key], {});\n",
              "          if (!dataTable) return;\n",
              "\n",
              "          const docLinkHtml = 'Like what you see? Visit the ' +\n",
              "            '<a target=\"_blank\" href=https://colab.research.google.com/notebooks/data_table.ipynb>data table notebook</a>'\n",
              "            + ' to learn more about interactive tables.';\n",
              "          element.innerHTML = '';\n",
              "          dataTable['output_type'] = 'display_data';\n",
              "          await google.colab.output.renderOutput(dataTable, element);\n",
              "          const docLink = document.createElement('div');\n",
              "          docLink.innerHTML = docLinkHtml;\n",
              "          element.appendChild(docLink);\n",
              "        }\n",
              "      </script>\n",
              "    </div>\n",
              "  </div>\n",
              "  "
            ]
          },
          "metadata": {},
          "execution_count": 17
        }
      ]
    },
    {
      "cell_type": "markdown",
      "source": [
        "The basic method to check is to calculate $R^2$ [coefficient of determination](https://en.wikipedia.org/wiki/Coefficient_of_determination)."
      ],
      "metadata": {
        "id": "VqcvX1gqx1Gt"
      }
    },
    {
      "cell_type": "code",
      "source": [
        "#@markdown R square coefficient\n",
        "\n",
        "print(f'R^2 = {sk_regr.score(body_data,brain_data)}')\n",
        "#print(f\"R^2 = {sk_regr_cut.score(mammals_cut[['body']],mammals_cut[['brain']])} without outliers, R^2 for the set without outliers\")\n",
        "#print(f'R^2 = {sk_regr_cut.score(body_data,brain_data)} without outliers, R^2 for the whole set')\n",
        "#print(f'R^2 = {sk_regr_ml.score(x_train,y_train)} on training set')\n",
        "#print(f'R^2 = {sk_regr_ml.score(x_test,y_test)} on test set')"
      ],
      "metadata": {
        "colab": {
          "base_uri": "https://localhost:8080/"
        },
        "id": "f7p1wI32x-XZ",
        "outputId": "4e0e0ff1-660c-4db2-bb55-01114453f28c"
      },
      "execution_count": null,
      "outputs": [
        {
          "output_type": "stream",
          "name": "stdout",
          "text": [
            "R^2 = 0.8726620843043331\n"
          ]
        }
      ]
    },
    {
      "cell_type": "markdown",
      "source": [
        "Regression by StatsModel:"
      ],
      "metadata": {
        "id": "OiTZywTvyTfj"
      }
    },
    {
      "cell_type": "code",
      "source": [
        "#@title Regression by StatsModel\n",
        "\n",
        "import statsmodels.api as sm\n",
        "\n",
        "body_data1 = sm.add_constant(body_data) # add constant 1 in all the rows\n",
        "# print(body_data1)\n",
        "\n",
        "# below: \n",
        "regression1 = sm.OLS(brain_data,body_data1).fit()\n",
        "print(regression1.params,\"\\n\")\n",
        "print(regression1.summary(),\"\\n\")"
      ],
      "metadata": {
        "colab": {
          "base_uri": "https://localhost:8080/"
        },
        "id": "NpFp_4dDyXAG",
        "outputId": "2783e11c-cdf3-4d31-9fa3-520493c983f7"
      },
      "execution_count": null,
      "outputs": [
        {
          "output_type": "stream",
          "name": "stdout",
          "text": [
            "const    91.004396\n",
            "body      0.966496\n",
            "dtype: float64 \n",
            "\n",
            "                            OLS Regression Results                            \n",
            "==============================================================================\n",
            "Dep. Variable:                  brain   R-squared:                       0.873\n",
            "Model:                            OLS   Adj. R-squared:                  0.871\n",
            "Method:                 Least Squares   F-statistic:                     411.2\n",
            "Date:                Mon, 20 Mar 2023   Prob (F-statistic):           1.54e-28\n",
            "Time:                        20:50:24   Log-Likelihood:                -447.38\n",
            "No. Observations:                  62   AIC:                             898.8\n",
            "Df Residuals:                      60   BIC:                             903.0\n",
            "Df Model:                           1                                         \n",
            "Covariance Type:            nonrobust                                         \n",
            "==============================================================================\n",
            "                 coef    std err          t      P>|t|      [0.025      0.975]\n",
            "------------------------------------------------------------------------------\n",
            "const         91.0044     43.553      2.090      0.041       3.886     178.123\n",
            "body           0.9665      0.048     20.278      0.000       0.871       1.062\n",
            "==============================================================================\n",
            "Omnibus:                       92.942   Durbin-Watson:                   2.339\n",
            "Prob(Omnibus):                  0.000   Jarque-Bera (JB):             1738.656\n",
            "Skew:                           4.382   Prob(JB):                         0.00\n",
            "Kurtosis:                      27.417   Cond. No.                         936.\n",
            "==============================================================================\n",
            "\n",
            "Notes:\n",
            "[1] Standard Errors assume that the covariance matrix of the errors is correctly specified. \n",
            "\n"
          ]
        }
      ]
    },
    {
      "cell_type": "markdown",
      "source": [
        "Regression with data not susceptible for linear regression:"
      ],
      "metadata": {
        "id": "xEJffXxRyeHY"
      }
    },
    {
      "cell_type": "code",
      "source": [
        "x = np.linspace(-5,10,100)\n",
        "D0 = np.array([x, np.power(x,2)]).T\n",
        "# print(D0)\n",
        "D1 = pd.DataFrame(data=D0, columns=[\"x\", \"y_pow\"])\n",
        "# print(D1)\n",
        "\n",
        "bad_regr = linear_model.LinearRegression()\n",
        "bad_regr.fit(D1[[\"x\"]],D1[[\"y_pow\"]])\n",
        "print(f'Coefficient = {bad_regr.coef_}')\n",
        "print(f'Intercept = {bad_regr.intercept_}')\n",
        "print(f'R^2 = {bad_regr.score(D1[[\"x\"]],D1[[\"y_pow\"]])}')\n",
        "# Remember that typically we do not quantify the quality on the basis of the training set!\n",
        "\n",
        "plt.scatter(D1[[\"x\"]],D1[[\"y_pow\"]])\n",
        "plt.xlabel(\"$x$\", fontsize=16)\n",
        "plt.ylabel(r'$y = x^2$', fontsize=16)\n",
        "pred = bad_regr.predict(D1[[\"x\"]])\n",
        "plt.plot(x,pred,'r',label=\"Regression line\",linewidth=2)\n",
        "plt.legend(loc=4)\n",
        "plt.show()\n",
        "\n",
        "import statsmodels.formula.api as smf\n",
        "\n",
        "# StatsModel: to see the quality table\n",
        "# A little different API\n",
        "D0 = np.array([np.ones(x.size), x, np.power(x,2)]).T\n",
        "D1 = pd.DataFrame(data=D0, columns=[\"const\", \"x\", \"y_pow\"])\n",
        "regression_bad = smf.ols(formula='y_pow ~ x', data = D1).fit()\n",
        "print(regression_bad.summary(),\"\\n\")"
      ],
      "metadata": {
        "colab": {
          "base_uri": "https://localhost:8080/",
          "height": 805
        },
        "id": "Xs01Q3zSyhjh",
        "outputId": "f87f0c83-e1cc-4f67-ceed-2e76f24c5662"
      },
      "execution_count": null,
      "outputs": [
        {
          "output_type": "stream",
          "name": "stdout",
          "text": [
            "Coefficient = [[5.]]\n",
            "Intercept = [12.87878788]\n",
            "R^2 = 0.6203714253161672\n"
          ]
        },
        {
          "output_type": "display_data",
          "data": {
            "text/plain": [
              "<Figure size 432x288 with 1 Axes>"
            ],
            "image/png": "[encoded data removed]"
          },
          "metadata": {}
        },
        {
          "output_type": "stream",
          "name": "stdout",
          "text": [
            "                            OLS Regression Results                            \n",
            "==============================================================================\n",
            "Dep. Variable:                  y_pow   R-squared:                       0.620\n",
            "Model:                            OLS   Adj. R-squared:                  0.616\n",
            "Method:                 Least Squares   F-statistic:                     160.1\n",
            "Date:                Mon, 20 Mar 2023   Prob (F-statistic):           2.48e-22\n",
            "Time:                        20:51:12   Log-Likelihood:                -425.84\n",
            "No. Observations:                 100   AIC:                             855.7\n",
            "Df Residuals:                      98   BIC:                             860.9\n",
            "Df Model:                           1                                         \n",
            "Covariance Type:            nonrobust                                         \n",
            "==============================================================================\n",
            "                 coef    std err          t      P>|t|      [0.025      0.975]\n",
            "------------------------------------------------------------------------------\n",
            "Intercept     12.8788      1.990      6.470      0.000       8.929      16.829\n",
            "x              5.0000      0.395     12.655      0.000       4.216       5.784\n",
            "==============================================================================\n",
            "Omnibus:                       14.290   Durbin-Watson:                   0.006\n",
            "Prob(Omnibus):                  0.001   Jarque-Bera (JB):                9.864\n",
            "Skew:                           0.638   Prob(JB):                      0.00721\n",
            "Kurtosis:                       2.140   Cond. No.                         5.86\n",
            "==============================================================================\n",
            "\n",
            "Notes:\n",
            "[1] Standard Errors assume that the covariance matrix of the errors is correctly specified. \n",
            "\n"
          ]
        }
      ]
    },
    {
      "cell_type": "markdown",
      "source": [
        "Polynomial regression:"
      ],
      "metadata": {
        "id": "MZhaisOWysqn"
      }
    },
    {
      "cell_type": "code",
      "source": [
        "#@markdown * Data generation\n",
        "#@markdown * Data from function $y = 10 - \\frac{1}{x^2 + \\frac{1}{10}}$ (we will try to provide polynomial regression for it)\n",
        "#@markdown * Obviously, in the typical case we just have date and do not know anything like that\n",
        "#@markdown * Although $y=f(x)$ is not a polynomial in fact, we can effectively provide approximation for $y$ with multivariate regression\n",
        "\n",
        "def make_data(N, err=1.0, rseed=1):     \n",
        "    rng = np.random.RandomState(rseed)\n",
        "    X = rng.rand(N, 1) ** 2\n",
        "    y = 10 - 1. / (X.ravel() + 0.1)\n",
        "    # we add some noise\n",
        "    if err > 0:                      \n",
        "        y += err * rng.randn(N)\n",
        "    return X, y\n",
        "\n",
        "X, y = make_data(40, err=0.0)\n",
        "\n",
        "plt.figure(figsize=(10,10))\n",
        "plt.scatter(X.ravel(), y, color='black')\n",
        "axis = plt.axis()\n",
        "plt.xlim(-0.1, 1.0)\n",
        "plt.ylim(-2, 12)\n",
        "plt.xlabel(\"$x$\")\n",
        "plt.ylabel(\"$y$\")\n",
        "plt.title(\"Our dataset\")\n",
        "plt.show()"
      ],
      "metadata": {
        "colab": {
          "base_uri": "https://localhost:8080/",
          "height": 627
        },
        "id": "YtppeuD-yuhh",
        "outputId": "d612b314-aaf0-4839-c116-d4f07ed087b4"
      },
      "execution_count": null,
      "outputs": [
        {
          "output_type": "display_data",
          "data": {
            "text/plain": [
              "<Figure size 720x720 with 1 Axes>"
            ],
            "image/png": "[encoded data removed]"
          },
          "metadata": {}
        }
      ]
    },
    {
      "cell_type": "markdown",
      "source": [
        "# Exercise number 3"
      ],
      "metadata": {
        "id": "SqJKS-nzyzBh"
      }
    },
    {
      "cell_type": "markdown",
      "source": [
        "For the generated synthetic data perform polynomial regression with `sklearn`:\n",
        "1. You can just use `PolynomialFeatures` to generate higher powers.\n",
        "2. Then, you can just provide linear regression on these new features.\n",
        "3. Play with various polynomials, start with degree=3: $\\hat{y} = \\theta_3x^3 + \\theta_2x^2 + \\theta_1x + \\theta_0$.\n",
        "4. Remember that linear regression can just take a vector of values representing the dependent variable (and not only a single value as done before).\n",
        "5. Visualize the results, divide data to train/test sets, find $\\mathit{MSE}$, $\\mathit{MAE}$, $R^2$. Show examples of underfitting and overfitting. Check also the cases when the data contain errors.\n",
        "6. Show coefficients. What happens with them for larger powers? What does it mean?"
      ],
      "metadata": {
        "id": "8MVydtbAy1Z7"
      }
    },
    {
      "cell_type": "code",
      "source": [],
      "metadata": {
        "id": "lArzQOq81ACg"
      },
      "execution_count": null,
      "outputs": []
    },
    {
      "cell_type": "code",
      "source": [
        "#@title Multivariate regression with real data\n",
        "\n",
        "from sklearn.datasets import load_diabetes\n",
        "\n",
        "diabetes = load_diabetes()\n",
        "pprint.pprint(diabetes)\n",
        "\n",
        "names = diabetes[\"feature_names\"]\n",
        "print(names)"
      ],
      "metadata": {
        "id": "fTBvvNYoCdsU",
        "colab": {
          "base_uri": "https://localhost:8080/"
        },
        "outputId": "48190852-4813-4e5a-c61e-b37fdd0f4d47"
      },
      "execution_count": null,
      "outputs": [
        {
          "output_type": "stream",
          "name": "stdout",
          "text": [
            "{'DESCR': '.. _diabetes_dataset:\\n'\n",
            "          '\\n'\n",
            "          'Diabetes dataset\\n'\n",
            "          '----------------\\n'\n",
            "          '\\n'\n",
            "          'Ten baseline variables, age, sex, body mass index, average blood\\n'\n",
            "          'pressure, and six blood serum measurements were obtained for each '\n",
            "          'of n =\\n'\n",
            "          '442 diabetes patients, as well as the response of interest, a\\n'\n",
            "          'quantitative measure of disease progression one year after '\n",
            "          'baseline.\\n'\n",
            "          '\\n'\n",
            "          '**Data Set Characteristics:**\\n'\n",
            "          '\\n'\n",
            "          '  :Number of Instances: 442\\n'\n",
            "          '\\n'\n",
            "          '  :Number of Attributes: First 10 columns are numeric predictive '\n",
            "          'values\\n'\n",
            "          '\\n'\n",
            "          '  :Target: Column 11 is a quantitative measure of disease '\n",
            "          'progression one year after baseline\\n'\n",
            "          '\\n'\n",
            "          '  :Attribute Information:\\n'\n",
            "          '      - age     age in years\\n'\n",
            "          '      - sex\\n'\n",
            "          '      - bmi     body mass index\\n'\n",
            "          '      - bp      average blood pressure\\n'\n",
            "          '      - s1      tc, total serum cholesterol\\n'\n",
            "          '      - s2      ldl, low-density lipoproteins\\n'\n",
            "          '      - s3      hdl, high-density lipoproteins\\n'\n",
            "          '      - s4      tch, total cholesterol / HDL\\n'\n",
            "          '      - s5      ltg, possibly log of serum triglycerides level\\n'\n",
            "          '      - s6      glu, blood sugar level\\n'\n",
            "          '\\n'\n",
            "          'Note: Each of these 10 feature variables have been mean centered '\n",
            "          'and scaled by the standard deviation times the square root of '\n",
            "          '`n_samples` (i.e. the sum of squares of each column totals 1).\\n'\n",
            "          '\\n'\n",
            "          'Source URL:\\n'\n",
            "          'https://www4.stat.ncsu.edu/~boos/var.select/diabetes.html\\n'\n",
            "          '\\n'\n",
            "          'For more information see:\\n'\n",
            "          'Bradley Efron, Trevor Hastie, Iain Johnstone and Robert Tibshirani '\n",
            "          '(2004) \"Least Angle Regression,\" Annals of Statistics (with '\n",
            "          'discussion), 407-499.\\n'\n",
            "          '(https://web.stanford.edu/~hastie/Papers/LARS/LeastAngle_2002.pdf)\\n',\n",
            " 'data': array([[ 0.03807591,  0.05068012,  0.06169621, ..., -0.00259226,\n",
            "         0.01990749, -0.01764613],\n",
            "       [-0.00188202, -0.04464164, -0.05147406, ..., -0.03949338,\n",
            "        -0.06833155, -0.09220405],\n",
            "       [ 0.08529891,  0.05068012,  0.04445121, ..., -0.00259226,\n",
            "         0.00286131, -0.02593034],\n",
            "       ...,\n",
            "       [ 0.04170844,  0.05068012, -0.01590626, ..., -0.01107952,\n",
            "        -0.04688253,  0.01549073],\n",
            "       [-0.04547248, -0.04464164,  0.03906215, ...,  0.02655962,\n",
            "         0.04452873, -0.02593034],\n",
            "       [-0.04547248, -0.04464164, -0.0730303 , ..., -0.03949338,\n",
            "        -0.00422151,  0.00306441]]),\n",
            " 'data_filename': 'diabetes_data_raw.csv.gz',\n",
            " 'data_module': 'sklearn.datasets.data',\n",
            " 'feature_names': ['age',\n",
            "                   'sex',\n",
            "                   'bmi',\n",
            "                   'bp',\n",
            "                   's1',\n",
            "                   's2',\n",
            "                   's3',\n",
            "                   's4',\n",
            "                   's5',\n",
            "                   's6'],\n",
            " 'frame': None,\n",
            " 'target': array([151.,  75., 141., 206., 135.,  97., 138.,  63., 110., 310., 101.,\n",
            "        69., 179., 185., 118., 171., 166., 144.,  97., 168.,  68.,  49.,\n",
            "        68., 245., 184., 202., 137.,  85., 131., 283., 129.,  59., 341.,\n",
            "        87.,  65., 102., 265., 276., 252.,  90., 100.,  55.,  61.,  92.,\n",
            "       259.,  53., 190., 142.,  75., 142., 155., 225.,  59., 104., 182.,\n",
            "       128.,  52.,  37., 170., 170.,  61., 144.,  52., 128.,  71., 163.,\n",
            "       150.,  97., 160., 178.,  48., 270., 202., 111.,  85.,  42., 170.,\n",
            "       200., 252., 113., 143.,  51.,  52., 210.,  65., 141.,  55., 134.,\n",
            "        42., 111.,  98., 164.,  48.,  96.,  90., 162., 150., 279.,  92.,\n",
            "        83., 128., 102., 302., 198.,  95.,  53., 134., 144., 232.,  81.,\n",
            "       104.,  59., 246., 297., 258., 229., 275., 281., 179., 200., 200.,\n",
            "       173., 180.,  84., 121., 161.,  99., 109., 115., 268., 274., 158.,\n",
            "       107.,  83., 103., 272.,  85., 280., 336., 281., 118., 317., 235.,\n",
            "        60., 174., 259., 178., 128.,  96., 126., 288.,  88., 292.,  71.,\n",
            "       197., 186.,  25.,  84.,  96., 195.,  53., 217., 172., 131., 214.,\n",
            "        59.,  70., 220., 268., 152.,  47.,  74., 295., 101., 151., 127.,\n",
            "       237., 225.,  81., 151., 107.,  64., 138., 185., 265., 101., 137.,\n",
            "       143., 141.,  79., 292., 178.,  91., 116.,  86., 122.,  72., 129.,\n",
            "       142.,  90., 158.,  39., 196., 222., 277.,  99., 196., 202., 155.,\n",
            "        77., 191.,  70.,  73.,  49.,  65., 263., 248., 296., 214., 185.,\n",
            "        78.,  93., 252., 150.,  77., 208.,  77., 108., 160.,  53., 220.,\n",
            "       154., 259.,  90., 246., 124.,  67.,  72., 257., 262., 275., 177.,\n",
            "        71.,  47., 187., 125.,  78.,  51., 258., 215., 303., 243.,  91.,\n",
            "       150., 310., 153., 346.,  63.,  89.,  50.,  39., 103., 308., 116.,\n",
            "       145.,  74.,  45., 115., 264.,  87., 202., 127., 182., 241.,  66.,\n",
            "        94., 283.,  64., 102., 200., 265.,  94., 230., 181., 156., 233.,\n",
            "        60., 219.,  80.,  68., 332., 248.,  84., 200.,  55.,  85.,  89.,\n",
            "        31., 129.,  83., 275.,  65., 198., 236., 253., 124.,  44., 172.,\n",
            "       114., 142., 109., 180., 144., 163., 147.,  97., 220., 190., 109.,\n",
            "       191., 122., 230., 242., 248., 249., 192., 131., 237.,  78., 135.,\n",
            "       244., 199., 270., 164.,  72.,  96., 306.,  91., 214.,  95., 216.,\n",
            "       263., 178., 113., 200., 139., 139.,  88., 148.,  88., 243.,  71.,\n",
            "        77., 109., 272.,  60.,  54., 221.,  90., 311., 281., 182., 321.,\n",
            "        58., 262., 206., 233., 242., 123., 167.,  63., 197.,  71., 168.,\n",
            "       140., 217., 121., 235., 245.,  40.,  52., 104., 132.,  88.,  69.,\n",
            "       219.,  72., 201., 110.,  51., 277.,  63., 118.,  69., 273., 258.,\n",
            "        43., 198., 242., 232., 175.,  93., 168., 275., 293., 281.,  72.,\n",
            "       140., 189., 181., 209., 136., 261., 113., 131., 174., 257.,  55.,\n",
            "        84.,  42., 146., 212., 233.,  91., 111., 152., 120.,  67., 310.,\n",
            "        94., 183.,  66., 173.,  72.,  49.,  64.,  48., 178., 104., 132.,\n",
            "       220.,  57.]),\n",
            " 'target_filename': 'diabetes_target.csv.gz'}\n",
            "['age', 'sex', 'bmi', 'bp', 's1', 's2', 's3', 's4', 's5', 's6']\n"
          ]
        }
      ]
    },
    {
      "cell_type": "code",
      "source": [
        "#@markdown Some information on our data\n",
        "\n",
        "df = pd.DataFrame(diabetes.data, columns = diabetes.feature_names)\n",
        "# target is supposed to present the disease progression (whatever it means here)\n",
        "df['progress'] = diabetes.target\n",
        "df"
      ],
      "metadata": {
        "colab": {
          "base_uri": "https://localhost:8080/",
          "height": 424
        },
        "id": "NauUCR-C04SM",
        "outputId": "35e3575f-00bf-45a4-d8e6-f9f73e29106f"
      },
      "execution_count": null,
      "outputs": [
        {
          "output_type": "execute_result",
          "data": {
            "text/plain": [
              "          age       sex       bmi        bp        s1        s2        s3  \\\n",
              "0    0.038076  0.050680  0.061696  0.021872 -0.044223 -0.034821 -0.043401   \n",
              "1   -0.001882 -0.044642 -0.051474 -0.026328 -0.008449 -0.019163  0.074412   \n",
              "2    0.085299  0.050680  0.044451 -0.005670 -0.045599 -0.034194 -0.032356   \n",
              "3   -0.089063 -0.044642 -0.011595 -0.036656  0.012191  0.024991 -0.036038   \n",
              "4    0.005383 -0.044642 -0.036385  0.021872  0.003935  0.015596  0.008142   \n",
              "..        ...       ...       ...       ...       ...       ...       ...   \n",
              "437  0.041708  0.050680  0.019662  0.059744 -0.005697 -0.002566 -0.028674   \n",
              "438 -0.005515  0.050680 -0.015906 -0.067642  0.049341  0.079165 -0.028674   \n",
              "439  0.041708  0.050680 -0.015906  0.017293 -0.037344 -0.013840 -0.024993   \n",
              "440 -0.045472 -0.044642  0.039062  0.001215  0.016318  0.015283 -0.028674   \n",
              "441 -0.045472 -0.044642 -0.073030 -0.081413  0.083740  0.027809  0.173816   \n",
              "\n",
              "           s4        s5        s6  progress  \n",
              "0   -0.002592  0.019907 -0.017646     151.0  \n",
              "1   -0.039493 -0.068332 -0.092204      75.0  \n",
              "2   -0.002592  0.002861 -0.025930     141.0  \n",
              "3    0.034309  0.022688 -0.009362     206.0  \n",
              "4   -0.002592 -0.031988 -0.046641     135.0  \n",
              "..        ...       ...       ...       ...  \n",
              "437 -0.002592  0.031193  0.007207     178.0  \n",
              "438  0.034309 -0.018114  0.044485     104.0  \n",
              "439 -0.011080 -0.046883  0.015491     132.0  \n",
              "440  0.026560  0.044529 -0.025930     220.0  \n",
              "441 -0.039493 -0.004222  0.003064      57.0  \n",
              "\n",
              "[442 rows x 11 columns]"
            ],
            "text/html": [
              "\n",
              "  <div id=\"df-83851377-efeb-4b4f-bfdc-d947e8bf3a70\">\n",
              "    <div class=\"colab-df-container\">\n",
              "      <div>\n",
              "<style scoped>\n",
              "    .dataframe tbody tr th:only-of-type {\n",
              "        vertical-align: middle;\n",
              "    }\n",
              "\n",
              "    .dataframe tbody tr th {\n",
              "        vertical-align: top;\n",
              "    }\n",
              "\n",
              "    .dataframe thead th {\n",
              "        text-align: right;\n",
              "    }\n",
              "</style>\n",
              "<table border=\"1\" class=\"dataframe\">\n",
              "  <thead>\n",
              "    <tr style=\"text-align: right;\">\n",
              "      <th></th>\n",
              "      <th>age</th>\n",
              "      <th>sex</th>\n",
              "      <th>bmi</th>\n",
              "      <th>bp</th>\n",
              "      <th>s1</th>\n",
              "      <th>s2</th>\n",
              "      <th>s3</th>\n",
              "      <th>s4</th>\n",
              "      <th>s5</th>\n",
              "      <th>s6</th>\n",
              "      <th>progress</th>\n",
              "    </tr>\n",
              "  </thead>\n",
              "  <tbody>\n",
              "    <tr>\n",
              "      <th>0</th>\n",
              "      <td>0.038076</td>\n",
              "      <td>0.050680</td>\n",
              "      <td>0.061696</td>\n",
              "      <td>0.021872</td>\n",
              "      <td>-0.044223</td>\n",
              "      <td>-0.034821</td>\n",
              "      <td>-0.043401</td>\n",
              "      <td>-0.002592</td>\n",
              "      <td>0.019907</td>\n",
              "      <td>-0.017646</td>\n",
              "      <td>151.0</td>\n",
              "    </tr>\n",
              "    <tr>\n",
              "      <th>1</th>\n",
              "      <td>-0.001882</td>\n",
              "      <td>-0.044642</td>\n",
              "      <td>-0.051474</td>\n",
              "      <td>-0.026328</td>\n",
              "      <td>-0.008449</td>\n",
              "      <td>-0.019163</td>\n",
              "      <td>0.074412</td>\n",
              "      <td>-0.039493</td>\n",
              "      <td>-0.068332</td>\n",
              "      <td>-0.092204</td>\n",
              "      <td>75.0</td>\n",
              "    </tr>\n",
              "    <tr>\n",
              "      <th>2</th>\n",
              "      <td>0.085299</td>\n",
              "      <td>0.050680</td>\n",
              "      <td>0.044451</td>\n",
              "      <td>-0.005670</td>\n",
              "      <td>-0.045599</td>\n",
              "      <td>-0.034194</td>\n",
              "      <td>-0.032356</td>\n",
              "      <td>-0.002592</td>\n",
              "      <td>0.002861</td>\n",
              "      <td>-0.025930</td>\n",
              "      <td>141.0</td>\n",
              "    </tr>\n",
              "    <tr>\n",
              "      <th>3</th>\n",
              "      <td>-0.089063</td>\n",
              "      <td>-0.044642</td>\n",
              "      <td>-0.011595</td>\n",
              "      <td>-0.036656</td>\n",
              "      <td>0.012191</td>\n",
              "      <td>0.024991</td>\n",
              "      <td>-0.036038</td>\n",
              "      <td>0.034309</td>\n",
              "      <td>0.022688</td>\n",
              "      <td>-0.009362</td>\n",
              "      <td>206.0</td>\n",
              "    </tr>\n",
              "    <tr>\n",
              "      <th>4</th>\n",
              "      <td>0.005383</td>\n",
              "      <td>-0.044642</td>\n",
              "      <td>-0.036385</td>\n",
              "      <td>0.021872</td>\n",
              "      <td>0.003935</td>\n",
              "      <td>0.015596</td>\n",
              "      <td>0.008142</td>\n",
              "      <td>-0.002592</td>\n",
              "      <td>-0.031988</td>\n",
              "      <td>-0.046641</td>\n",
              "      <td>135.0</td>\n",
              "    </tr>\n",
              "    <tr>\n",
              "      <th>...</th>\n",
              "      <td>...</td>\n",
              "      <td>...</td>\n",
              "      <td>...</td>\n",
              "      <td>...</td>\n",
              "      <td>...</td>\n",
              "      <td>...</td>\n",
              "      <td>...</td>\n",
              "      <td>...</td>\n",
              "      <td>...</td>\n",
              "      <td>...</td>\n",
              "      <td>...</td>\n",
              "    </tr>\n",
              "    <tr>\n",
              "      <th>437</th>\n",
              "      <td>0.041708</td>\n",
              "      <td>0.050680</td>\n",
              "      <td>0.019662</td>\n",
              "      <td>0.059744</td>\n",
              "      <td>-0.005697</td>\n",
              "      <td>-0.002566</td>\n",
              "      <td>-0.028674</td>\n",
              "      <td>-0.002592</td>\n",
              "      <td>0.031193</td>\n",
              "      <td>0.007207</td>\n",
              "      <td>178.0</td>\n",
              "    </tr>\n",
              "    <tr>\n",
              "      <th>438</th>\n",
              "      <td>-0.005515</td>\n",
              "      <td>0.050680</td>\n",
              "      <td>-0.015906</td>\n",
              "      <td>-0.067642</td>\n",
              "      <td>0.049341</td>\n",
              "      <td>0.079165</td>\n",
              "      <td>-0.028674</td>\n",
              "      <td>0.034309</td>\n",
              "      <td>-0.018114</td>\n",
              "      <td>0.044485</td>\n",
              "      <td>104.0</td>\n",
              "    </tr>\n",
              "    <tr>\n",
              "      <th>439</th>\n",
              "      <td>0.041708</td>\n",
              "      <td>0.050680</td>\n",
              "      <td>-0.015906</td>\n",
              "      <td>0.017293</td>\n",
              "      <td>-0.037344</td>\n",
              "      <td>-0.013840</td>\n",
              "      <td>-0.024993</td>\n",
              "      <td>-0.011080</td>\n",
              "      <td>-0.046883</td>\n",
              "      <td>0.015491</td>\n",
              "      <td>132.0</td>\n",
              "    </tr>\n",
              "    <tr>\n",
              "      <th>440</th>\n",
              "      <td>-0.045472</td>\n",
              "      <td>-0.044642</td>\n",
              "      <td>0.039062</td>\n",
              "      <td>0.001215</td>\n",
              "      <td>0.016318</td>\n",
              "      <td>0.015283</td>\n",
              "      <td>-0.028674</td>\n",
              "      <td>0.026560</td>\n",
              "      <td>0.044529</td>\n",
              "      <td>-0.025930</td>\n",
              "      <td>220.0</td>\n",
              "    </tr>\n",
              "    <tr>\n",
              "      <th>441</th>\n",
              "      <td>-0.045472</td>\n",
              "      <td>-0.044642</td>\n",
              "      <td>-0.073030</td>\n",
              "      <td>-0.081413</td>\n",
              "      <td>0.083740</td>\n",
              "      <td>0.027809</td>\n",
              "      <td>0.173816</td>\n",
              "      <td>-0.039493</td>\n",
              "      <td>-0.004222</td>\n",
              "      <td>0.003064</td>\n",
              "      <td>57.0</td>\n",
              "    </tr>\n",
              "  </tbody>\n",
              "</table>\n",
              "<p>442 rows × 11 columns</p>\n",
              "</div>\n",
              "      <button class=\"colab-df-convert\" onclick=\"convertToInteractive('df-83851377-efeb-4b4f-bfdc-d947e8bf3a70')\"\n",
              "              title=\"Convert this dataframe to an interactive table.\"\n",
              "              style=\"display:none;\">\n",
              "        \n",
              "  <svg xmlns=\"http://www.w3.org/2000/svg\" height=\"24px\"viewBox=\"0 0 24 24\"\n",
              "       width=\"24px\">\n",
              "    <path d=\"M0 0h24v24H0V0z\" fill=\"none\"/>\n",
              "    <path d=\"M18.56 5.44l.94 2.06.94-2.06 2.06-.94-2.06-.94-.94-2.06-.94 2.06-2.06.94zm-11 1L8.5 8.5l.94-2.06 2.06-.94-2.06-.94L8.5 2.5l-.94 2.06-2.06.94zm10 10l.94 2.06.94-2.06 2.06-.94-2.06-.94-.94-2.06-.94 2.06-2.06.94z\"/><path d=\"M17.41 7.96l-1.37-1.37c-.4-.4-.92-.59-1.43-.59-.52 0-1.04.2-1.43.59L10.3 9.45l-7.72 7.72c-.78.78-.78 2.05 0 2.83L4 21.41c.39.39.9.59 1.41.59.51 0 1.02-.2 1.41-.59l7.78-7.78 2.81-2.81c.8-.78.8-2.07 0-2.86zM5.41 20L4 18.59l7.72-7.72 1.47 1.35L5.41 20z\"/>\n",
              "  </svg>\n",
              "      </button>\n",
              "      \n",
              "  <style>\n",
              "    .colab-df-container {\n",
              "      display:flex;\n",
              "      flex-wrap:wrap;\n",
              "      gap: 12px;\n",
              "    }\n",
              "\n",
              "    .colab-df-convert {\n",
              "      background-color: #E8F0FE;\n",
              "      border: none;\n",
              "      border-radius: 50%;\n",
              "      cursor: pointer;\n",
              "      display: none;\n",
              "      fill: #1967D2;\n",
              "      height: 32px;\n",
              "      padding: 0 0 0 0;\n",
              "      width: 32px;\n",
              "    }\n",
              "\n",
              "    .colab-df-convert:hover {\n",
              "      background-color: #E2EBFA;\n",
              "      box-shadow: 0px 1px 2px rgba(60, 64, 67, 0.3), 0px 1px 3px 1px rgba(60, 64, 67, 0.15);\n",
              "      fill: #174EA6;\n",
              "    }\n",
              "\n",
              "    [theme=dark] .colab-df-convert {\n",
              "      background-color: #3B4455;\n",
              "      fill: #D2E3FC;\n",
              "    }\n",
              "\n",
              "    [theme=dark] .colab-df-convert:hover {\n",
              "      background-color: #434B5C;\n",
              "      box-shadow: 0px 1px 3px 1px rgba(0, 0, 0, 0.15);\n",
              "      filter: drop-shadow(0px 1px 2px rgba(0, 0, 0, 0.3));\n",
              "      fill: #FFFFFF;\n",
              "    }\n",
              "  </style>\n",
              "\n",
              "      <script>\n",
              "        const buttonEl =\n",
              "          document.querySelector('#df-83851377-efeb-4b4f-bfdc-d947e8bf3a70 button.colab-df-convert');\n",
              "        buttonEl.style.display =\n",
              "          google.colab.kernel.accessAllowed ? 'block' : 'none';\n",
              "\n",
              "        async function convertToInteractive(key) {\n",
              "          const element = document.querySelector('#df-83851377-efeb-4b4f-bfdc-d947e8bf3a70');\n",
              "          const dataTable =\n",
              "            await google.colab.kernel.invokeFunction('convertToInteractive',\n",
              "                                                     [key], {});\n",
              "          if (!dataTable) return;\n",
              "\n",
              "          const docLinkHtml = 'Like what you see? Visit the ' +\n",
              "            '<a target=\"_blank\" href=https://colab.research.google.com/notebooks/data_table.ipynb>data table notebook</a>'\n",
              "            + ' to learn more about interactive tables.';\n",
              "          element.innerHTML = '';\n",
              "          dataTable['output_type'] = 'display_data';\n",
              "          await google.colab.output.renderOutput(dataTable, element);\n",
              "          const docLink = document.createElement('div');\n",
              "          docLink.innerHTML = docLinkHtml;\n",
              "          element.appendChild(docLink);\n",
              "        }\n",
              "      </script>\n",
              "    </div>\n",
              "  </div>\n",
              "  "
            ]
          },
          "metadata": {},
          "execution_count": 36
        }
      ]
    },
    {
      "cell_type": "code",
      "source": [
        "df.describe()"
      ],
      "metadata": {
        "colab": {
          "base_uri": "https://localhost:8080/",
          "height": 300
        },
        "id": "ri1XftqE3THO",
        "outputId": "2f92088e-aeb0-42b5-bb15-8d804985cb67"
      },
      "execution_count": null,
      "outputs": [
        {
          "output_type": "execute_result",
          "data": {
            "text/plain": [
              "                age           sex           bmi            bp            s1  \\\n",
              "count  4.420000e+02  4.420000e+02  4.420000e+02  4.420000e+02  4.420000e+02   \n",
              "mean  -2.511817e-19  1.230790e-17 -2.245564e-16 -4.797570e-17 -1.381499e-17   \n",
              "std    4.761905e-02  4.761905e-02  4.761905e-02  4.761905e-02  4.761905e-02   \n",
              "min   -1.072256e-01 -4.464164e-02 -9.027530e-02 -1.123988e-01 -1.267807e-01   \n",
              "25%   -3.729927e-02 -4.464164e-02 -3.422907e-02 -3.665608e-02 -3.424784e-02   \n",
              "50%    5.383060e-03 -4.464164e-02 -7.283766e-03 -5.670422e-03 -4.320866e-03   \n",
              "75%    3.807591e-02  5.068012e-02  3.124802e-02  3.564379e-02  2.835801e-02   \n",
              "max    1.107267e-01  5.068012e-02  1.705552e-01  1.320436e-01  1.539137e-01   \n",
              "\n",
              "                 s2            s3            s4            s5            s6  \\\n",
              "count  4.420000e+02  4.420000e+02  4.420000e+02  4.420000e+02  4.420000e+02   \n",
              "mean   3.918434e-17 -5.777179e-18 -9.042540e-18  9.293722e-17  1.130318e-17   \n",
              "std    4.761905e-02  4.761905e-02  4.761905e-02  4.761905e-02  4.761905e-02   \n",
              "min   -1.156131e-01 -1.023071e-01 -7.639450e-02 -1.260971e-01 -1.377672e-01   \n",
              "25%   -3.035840e-02 -3.511716e-02 -3.949338e-02 -3.324559e-02 -3.317903e-02   \n",
              "50%   -3.819065e-03 -6.584468e-03 -2.592262e-03 -1.947171e-03 -1.077698e-03   \n",
              "75%    2.984439e-02  2.931150e-02  3.430886e-02  3.243232e-02  2.791705e-02   \n",
              "max    1.987880e-01  1.811791e-01  1.852344e-01  1.335973e-01  1.356118e-01   \n",
              "\n",
              "         progress  \n",
              "count  442.000000  \n",
              "mean   152.133484  \n",
              "std     77.093005  \n",
              "min     25.000000  \n",
              "25%     87.000000  \n",
              "50%    140.500000  \n",
              "75%    211.500000  \n",
              "max    346.000000  "
            ],
            "text/html": [
              "\n",
              "  <div id=\"df-35c6efe5-2183-418c-8530-7981ba99afa1\">\n",
              "    <div class=\"colab-df-container\">\n",
              "      <div>\n",
              "<style scoped>\n",
              "    .dataframe tbody tr th:only-of-type {\n",
              "        vertical-align: middle;\n",
              "    }\n",
              "\n",
              "    .dataframe tbody tr th {\n",
              "        vertical-align: top;\n",
              "    }\n",
              "\n",
              "    .dataframe thead th {\n",
              "        text-align: right;\n",
              "    }\n",
              "</style>\n",
              "<table border=\"1\" class=\"dataframe\">\n",
              "  <thead>\n",
              "    <tr style=\"text-align: right;\">\n",
              "      <th></th>\n",
              "      <th>age</th>\n",
              "      <th>sex</th>\n",
              "      <th>bmi</th>\n",
              "      <th>bp</th>\n",
              "      <th>s1</th>\n",
              "      <th>s2</th>\n",
              "      <th>s3</th>\n",
              "      <th>s4</th>\n",
              "      <th>s5</th>\n",
              "      <th>s6</th>\n",
              "      <th>progress</th>\n",
              "    </tr>\n",
              "  </thead>\n",
              "  <tbody>\n",
              "    <tr>\n",
              "      <th>count</th>\n",
              "      <td>4.420000e+02</td>\n",
              "      <td>4.420000e+02</td>\n",
              "      <td>4.420000e+02</td>\n",
              "      <td>4.420000e+02</td>\n",
              "      <td>4.420000e+02</td>\n",
              "      <td>4.420000e+02</td>\n",
              "      <td>4.420000e+02</td>\n",
              "      <td>4.420000e+02</td>\n",
              "      <td>4.420000e+02</td>\n",
              "      <td>4.420000e+02</td>\n",
              "      <td>442.000000</td>\n",
              "    </tr>\n",
              "    <tr>\n",
              "      <th>mean</th>\n",
              "      <td>-2.511817e-19</td>\n",
              "      <td>1.230790e-17</td>\n",
              "      <td>-2.245564e-16</td>\n",
              "      <td>-4.797570e-17</td>\n",
              "      <td>-1.381499e-17</td>\n",
              "      <td>3.918434e-17</td>\n",
              "      <td>-5.777179e-18</td>\n",
              "      <td>-9.042540e-18</td>\n",
              "      <td>9.293722e-17</td>\n",
              "      <td>1.130318e-17</td>\n",
              "      <td>152.133484</td>\n",
              "    </tr>\n",
              "    <tr>\n",
              "      <th>std</th>\n",
              "      <td>4.761905e-02</td>\n",
              "      <td>4.761905e-02</td>\n",
              "      <td>4.761905e-02</td>\n",
              "      <td>4.761905e-02</td>\n",
              "      <td>4.761905e-02</td>\n",
              "      <td>4.761905e-02</td>\n",
              "      <td>4.761905e-02</td>\n",
              "      <td>4.761905e-02</td>\n",
              "      <td>4.761905e-02</td>\n",
              "      <td>4.761905e-02</td>\n",
              "      <td>77.093005</td>\n",
              "    </tr>\n",
              "    <tr>\n",
              "      <th>min</th>\n",
              "      <td>-1.072256e-01</td>\n",
              "      <td>-4.464164e-02</td>\n",
              "      <td>-9.027530e-02</td>\n",
              "      <td>-1.123988e-01</td>\n",
              "      <td>-1.267807e-01</td>\n",
              "      <td>-1.156131e-01</td>\n",
              "      <td>-1.023071e-01</td>\n",
              "      <td>-7.639450e-02</td>\n",
              "      <td>-1.260971e-01</td>\n",
              "      <td>-1.377672e-01</td>\n",
              "      <td>25.000000</td>\n",
              "    </tr>\n",
              "    <tr>\n",
              "      <th>25%</th>\n",
              "      <td>-3.729927e-02</td>\n",
              "      <td>-4.464164e-02</td>\n",
              "      <td>-3.422907e-02</td>\n",
              "      <td>-3.665608e-02</td>\n",
              "      <td>-3.424784e-02</td>\n",
              "      <td>-3.035840e-02</td>\n",
              "      <td>-3.511716e-02</td>\n",
              "      <td>-3.949338e-02</td>\n",
              "      <td>-3.324559e-02</td>\n",
              "      <td>-3.317903e-02</td>\n",
              "      <td>87.000000</td>\n",
              "    </tr>\n",
              "    <tr>\n",
              "      <th>50%</th>\n",
              "      <td>5.383060e-03</td>\n",
              "      <td>-4.464164e-02</td>\n",
              "      <td>-7.283766e-03</td>\n",
              "      <td>-5.670422e-03</td>\n",
              "      <td>-4.320866e-03</td>\n",
              "      <td>-3.819065e-03</td>\n",
              "      <td>-6.584468e-03</td>\n",
              "      <td>-2.592262e-03</td>\n",
              "      <td>-1.947171e-03</td>\n",
              "      <td>-1.077698e-03</td>\n",
              "      <td>140.500000</td>\n",
              "    </tr>\n",
              "    <tr>\n",
              "      <th>75%</th>\n",
              "      <td>3.807591e-02</td>\n",
              "      <td>5.068012e-02</td>\n",
              "      <td>3.124802e-02</td>\n",
              "      <td>3.564379e-02</td>\n",
              "      <td>2.835801e-02</td>\n",
              "      <td>2.984439e-02</td>\n",
              "      <td>2.931150e-02</td>\n",
              "      <td>3.430886e-02</td>\n",
              "      <td>3.243232e-02</td>\n",
              "      <td>2.791705e-02</td>\n",
              "      <td>211.500000</td>\n",
              "    </tr>\n",
              "    <tr>\n",
              "      <th>max</th>\n",
              "      <td>1.107267e-01</td>\n",
              "      <td>5.068012e-02</td>\n",
              "      <td>1.705552e-01</td>\n",
              "      <td>1.320436e-01</td>\n",
              "      <td>1.539137e-01</td>\n",
              "      <td>1.987880e-01</td>\n",
              "      <td>1.811791e-01</td>\n",
              "      <td>1.852344e-01</td>\n",
              "      <td>1.335973e-01</td>\n",
              "      <td>1.356118e-01</td>\n",
              "      <td>346.000000</td>\n",
              "    </tr>\n",
              "  </tbody>\n",
              "</table>\n",
              "</div>\n",
              "      <button class=\"colab-df-convert\" onclick=\"convertToInteractive('df-35c6efe5-2183-418c-8530-7981ba99afa1')\"\n",
              "              title=\"Convert this dataframe to an interactive table.\"\n",
              "              style=\"display:none;\">\n",
              "        \n",
              "  <svg xmlns=\"http://www.w3.org/2000/svg\" height=\"24px\"viewBox=\"0 0 24 24\"\n",
              "       width=\"24px\">\n",
              "    <path d=\"M0 0h24v24H0V0z\" fill=\"none\"/>\n",
              "    <path d=\"M18.56 5.44l.94 2.06.94-2.06 2.06-.94-2.06-.94-.94-2.06-.94 2.06-2.06.94zm-11 1L8.5 8.5l.94-2.06 2.06-.94-2.06-.94L8.5 2.5l-.94 2.06-2.06.94zm10 10l.94 2.06.94-2.06 2.06-.94-2.06-.94-.94-2.06-.94 2.06-2.06.94z\"/><path d=\"M17.41 7.96l-1.37-1.37c-.4-.4-.92-.59-1.43-.59-.52 0-1.04.2-1.43.59L10.3 9.45l-7.72 7.72c-.78.78-.78 2.05 0 2.83L4 21.41c.39.39.9.59 1.41.59.51 0 1.02-.2 1.41-.59l7.78-7.78 2.81-2.81c.8-.78.8-2.07 0-2.86zM5.41 20L4 18.59l7.72-7.72 1.47 1.35L5.41 20z\"/>\n",
              "  </svg>\n",
              "      </button>\n",
              "      \n",
              "  <style>\n",
              "    .colab-df-container {\n",
              "      display:flex;\n",
              "      flex-wrap:wrap;\n",
              "      gap: 12px;\n",
              "    }\n",
              "\n",
              "    .colab-df-convert {\n",
              "      background-color: #E8F0FE;\n",
              "      border: none;\n",
              "      border-radius: 50%;\n",
              "      cursor: pointer;\n",
              "      display: none;\n",
              "      fill: #1967D2;\n",
              "      height: 32px;\n",
              "      padding: 0 0 0 0;\n",
              "      width: 32px;\n",
              "    }\n",
              "\n",
              "    .colab-df-convert:hover {\n",
              "      background-color: #E2EBFA;\n",
              "      box-shadow: 0px 1px 2px rgba(60, 64, 67, 0.3), 0px 1px 3px 1px rgba(60, 64, 67, 0.15);\n",
              "      fill: #174EA6;\n",
              "    }\n",
              "\n",
              "    [theme=dark] .colab-df-convert {\n",
              "      background-color: #3B4455;\n",
              "      fill: #D2E3FC;\n",
              "    }\n",
              "\n",
              "    [theme=dark] .colab-df-convert:hover {\n",
              "      background-color: #434B5C;\n",
              "      box-shadow: 0px 1px 3px 1px rgba(0, 0, 0, 0.15);\n",
              "      filter: drop-shadow(0px 1px 2px rgba(0, 0, 0, 0.3));\n",
              "      fill: #FFFFFF;\n",
              "    }\n",
              "  </style>\n",
              "\n",
              "      <script>\n",
              "        const buttonEl =\n",
              "          document.querySelector('#df-35c6efe5-2183-418c-8530-7981ba99afa1 button.colab-df-convert');\n",
              "        buttonEl.style.display =\n",
              "          google.colab.kernel.accessAllowed ? 'block' : 'none';\n",
              "\n",
              "        async function convertToInteractive(key) {\n",
              "          const element = document.querySelector('#df-35c6efe5-2183-418c-8530-7981ba99afa1');\n",
              "          const dataTable =\n",
              "            await google.colab.kernel.invokeFunction('convertToInteractive',\n",
              "                                                     [key], {});\n",
              "          if (!dataTable) return;\n",
              "\n",
              "          const docLinkHtml = 'Like what you see? Visit the ' +\n",
              "            '<a target=\"_blank\" href=https://colab.research.google.com/notebooks/data_table.ipynb>data table notebook</a>'\n",
              "            + ' to learn more about interactive tables.';\n",
              "          element.innerHTML = '';\n",
              "          dataTable['output_type'] = 'display_data';\n",
              "          await google.colab.output.renderOutput(dataTable, element);\n",
              "          const docLink = document.createElement('div');\n",
              "          docLink.innerHTML = docLinkHtml;\n",
              "          element.appendChild(docLink);\n",
              "        }\n",
              "      </script>\n",
              "    </div>\n",
              "  </div>\n",
              "  "
            ]
          },
          "metadata": {},
          "execution_count": 38
        }
      ]
    },
    {
      "cell_type": "code",
      "source": [
        "plt.figure(figsize=(20, 20))\n",
        "sns.heatmap(df.corr(), annot=True, square=True, cmap='RdYlGn')"
      ],
      "metadata": {
        "colab": {
          "base_uri": "https://localhost:8080/",
          "height": 1000
        },
        "id": "DVs0rx2N400S",
        "outputId": "6e7967f9-fcab-40d0-ded1-36991dfe97c4"
      },
      "execution_count": null,
      "outputs": [
        {
          "output_type": "execute_result",
          "data": {
            "text/plain": [
              "<Axes: >"
            ]
          },
          "metadata": {},
          "execution_count": 40
        },
        {
          "output_type": "display_data",
          "data": {
            "text/plain": [
              "<Figure size 1440x1440 with 2 Axes>"
            ],
            "image/png": "[encoded data removed]"
          },
          "metadata": {}
        }
      ]
    },
    {
      "cell_type": "markdown",
      "source": [
        "# Useful methods\n",
        "## How to print column information"
      ],
      "metadata": {
        "id": "UvD_Eeb27iG6"
      }
    },
    {
      "cell_type": "code",
      "source": [
        "mammals.columns"
      ],
      "metadata": {
        "colab": {
          "base_uri": "https://localhost:8080/"
        },
        "id": "M3SIYqMW7qQI",
        "outputId": "dda7c97c-e8dd-47f2-b738-17691ab699f6"
      },
      "execution_count": null,
      "outputs": [
        {
          "output_type": "execute_result",
          "data": {
            "text/plain": [
              "Index(['Mammal', 'body', 'brain'], dtype='object')"
            ]
          },
          "metadata": {},
          "execution_count": 4
        }
      ]
    },
    {
      "cell_type": "markdown",
      "source": [
        "## How to print dimensions of the data"
      ],
      "metadata": {
        "id": "xVbJSMKY72t_"
      }
    },
    {
      "cell_type": "code",
      "source": [
        "mammals.shape"
      ],
      "metadata": {
        "colab": {
          "base_uri": "https://localhost:8080/"
        },
        "id": "s-efjMBC78po",
        "outputId": "7280b141-2dd1-4b03-8241-a5f27681b3ab"
      },
      "execution_count": null,
      "outputs": [
        {
          "output_type": "execute_result",
          "data": {
            "text/plain": [
              "(62, 3)"
            ]
          },
          "metadata": {},
          "execution_count": 5
        }
      ]
    },
    {
      "cell_type": "markdown",
      "source": [
        "## How to print number of rows"
      ],
      "metadata": {
        "id": "hwkrRyCa8AU7"
      }
    },
    {
      "cell_type": "code",
      "source": [
        "len(mammals)"
      ],
      "metadata": {
        "colab": {
          "base_uri": "https://localhost:8080/"
        },
        "id": "D-PaXlXj8DL5",
        "outputId": "f72e5fca-e895-4fed-ff6d-2a22aaa0a3e1"
      },
      "execution_count": null,
      "outputs": [
        {
          "output_type": "execute_result",
          "data": {
            "text/plain": [
              "62"
            ]
          },
          "metadata": {},
          "execution_count": 6
        }
      ]
    },
    {
      "cell_type": "markdown",
      "source": [
        "## How to print number of elements"
      ],
      "metadata": {
        "id": "GWwfTcAP8Hg-"
      }
    },
    {
      "cell_type": "code",
      "source": [
        "mammals.size"
      ],
      "metadata": {
        "colab": {
          "base_uri": "https://localhost:8080/"
        },
        "id": "YJf-4T568KrD",
        "outputId": "0c3052ff-473b-4c47-df53-33e1b8faf9b9"
      },
      "execution_count": null,
      "outputs": [
        {
          "output_type": "execute_result",
          "data": {
            "text/plain": [
              "186"
            ]
          },
          "metadata": {},
          "execution_count": 7
        }
      ]
    },
    {
      "cell_type": "markdown",
      "source": [
        "## How to print random samples"
      ],
      "metadata": {
        "id": "5OY-lbWM8WLL"
      }
    },
    {
      "cell_type": "markdown",
      "source": [
        "### By using iloc"
      ],
      "metadata": {
        "id": "ExVVSMA6E2nJ"
      }
    },
    {
      "cell_type": "code",
      "source": [
        "mammals.iloc[-3:,:]"
      ],
      "metadata": {
        "colab": {
          "base_uri": "https://localhost:8080/",
          "height": 143
        },
        "id": "oeY0iIvz8Zjr",
        "outputId": "75485e44-d9f0-49f7-dbc3-6fb69bc5987d"
      },
      "execution_count": null,
      "outputs": [
        {
          "output_type": "execute_result",
          "data": {
            "text/plain": [
              "        Mammal   body  brain\n",
              "59   Phalanger  1.620   11.4\n",
              "60  Tree shrew  0.104    2.5\n",
              "61     Red fox  4.235   50.4"
            ],
            "text/html": [
              "\n",
              "  <div id=\"df-d4bd9105-51e2-47b9-8a8c-26c8dbcfb76b\">\n",
              "    <div class=\"colab-df-container\">\n",
              "      <div>\n",
              "<style scoped>\n",
              "    .dataframe tbody tr th:only-of-type {\n",
              "        vertical-align: middle;\n",
              "    }\n",
              "\n",
              "    .dataframe tbody tr th {\n",
              "        vertical-align: top;\n",
              "    }\n",
              "\n",
              "    .dataframe thead th {\n",
              "        text-align: right;\n",
              "    }\n",
              "</style>\n",
              "<table border=\"1\" class=\"dataframe\">\n",
              "  <thead>\n",
              "    <tr style=\"text-align: right;\">\n",
              "      <th></th>\n",
              "      <th>Mammal</th>\n",
              "      <th>body</th>\n",
              "      <th>brain</th>\n",
              "    </tr>\n",
              "  </thead>\n",
              "  <tbody>\n",
              "    <tr>\n",
              "      <th>59</th>\n",
              "      <td>Phalanger</td>\n",
              "      <td>1.620</td>\n",
              "      <td>11.4</td>\n",
              "    </tr>\n",
              "    <tr>\n",
              "      <th>60</th>\n",
              "      <td>Tree shrew</td>\n",
              "      <td>0.104</td>\n",
              "      <td>2.5</td>\n",
              "    </tr>\n",
              "    <tr>\n",
              "      <th>61</th>\n",
              "      <td>Red fox</td>\n",
              "      <td>4.235</td>\n",
              "      <td>50.4</td>\n",
              "    </tr>\n",
              "  </tbody>\n",
              "</table>\n",
              "</div>\n",
              "      <button class=\"colab-df-convert\" onclick=\"convertToInteractive('df-d4bd9105-51e2-47b9-8a8c-26c8dbcfb76b')\"\n",
              "              title=\"Convert this dataframe to an interactive table.\"\n",
              "              style=\"display:none;\">\n",
              "        \n",
              "  <svg xmlns=\"http://www.w3.org/2000/svg\" height=\"24px\"viewBox=\"0 0 24 24\"\n",
              "       width=\"24px\">\n",
              "    <path d=\"M0 0h24v24H0V0z\" fill=\"none\"/>\n",
              "    <path d=\"M18.56 5.44l.94 2.06.94-2.06 2.06-.94-2.06-.94-.94-2.06-.94 2.06-2.06.94zm-11 1L8.5 8.5l.94-2.06 2.06-.94-2.06-.94L8.5 2.5l-.94 2.06-2.06.94zm10 10l.94 2.06.94-2.06 2.06-.94-2.06-.94-.94-2.06-.94 2.06-2.06.94z\"/><path d=\"M17.41 7.96l-1.37-1.37c-.4-.4-.92-.59-1.43-.59-.52 0-1.04.2-1.43.59L10.3 9.45l-7.72 7.72c-.78.78-.78 2.05 0 2.83L4 21.41c.39.39.9.59 1.41.59.51 0 1.02-.2 1.41-.59l7.78-7.78 2.81-2.81c.8-.78.8-2.07 0-2.86zM5.41 20L4 18.59l7.72-7.72 1.47 1.35L5.41 20z\"/>\n",
              "  </svg>\n",
              "      </button>\n",
              "      \n",
              "  <style>\n",
              "    .colab-df-container {\n",
              "      display:flex;\n",
              "      flex-wrap:wrap;\n",
              "      gap: 12px;\n",
              "    }\n",
              "\n",
              "    .colab-df-convert {\n",
              "      background-color: #E8F0FE;\n",
              "      border: none;\n",
              "      border-radius: 50%;\n",
              "      cursor: pointer;\n",
              "      display: none;\n",
              "      fill: #1967D2;\n",
              "      height: 32px;\n",
              "      padding: 0 0 0 0;\n",
              "      width: 32px;\n",
              "    }\n",
              "\n",
              "    .colab-df-convert:hover {\n",
              "      background-color: #E2EBFA;\n",
              "      box-shadow: 0px 1px 2px rgba(60, 64, 67, 0.3), 0px 1px 3px 1px rgba(60, 64, 67, 0.15);\n",
              "      fill: #174EA6;\n",
              "    }\n",
              "\n",
              "    [theme=dark] .colab-df-convert {\n",
              "      background-color: #3B4455;\n",
              "      fill: #D2E3FC;\n",
              "    }\n",
              "\n",
              "    [theme=dark] .colab-df-convert:hover {\n",
              "      background-color: #434B5C;\n",
              "      box-shadow: 0px 1px 3px 1px rgba(0, 0, 0, 0.15);\n",
              "      filter: drop-shadow(0px 1px 2px rgba(0, 0, 0, 0.3));\n",
              "      fill: #FFFFFF;\n",
              "    }\n",
              "  </style>\n",
              "\n",
              "      <script>\n",
              "        const buttonEl =\n",
              "          document.querySelector('#df-d4bd9105-51e2-47b9-8a8c-26c8dbcfb76b button.colab-df-convert');\n",
              "        buttonEl.style.display =\n",
              "          google.colab.kernel.accessAllowed ? 'block' : 'none';\n",
              "\n",
              "        async function convertToInteractive(key) {\n",
              "          const element = document.querySelector('#df-d4bd9105-51e2-47b9-8a8c-26c8dbcfb76b');\n",
              "          const dataTable =\n",
              "            await google.colab.kernel.invokeFunction('convertToInteractive',\n",
              "                                                     [key], {});\n",
              "          if (!dataTable) return;\n",
              "\n",
              "          const docLinkHtml = 'Like what you see? Visit the ' +\n",
              "            '<a target=\"_blank\" href=https://colab.research.google.com/notebooks/data_table.ipynb>data table notebook</a>'\n",
              "            + ' to learn more about interactive tables.';\n",
              "          element.innerHTML = '';\n",
              "          dataTable['output_type'] = 'display_data';\n",
              "          await google.colab.output.renderOutput(dataTable, element);\n",
              "          const docLink = document.createElement('div');\n",
              "          docLink.innerHTML = docLinkHtml;\n",
              "          element.appendChild(docLink);\n",
              "        }\n",
              "      </script>\n",
              "    </div>\n",
              "  </div>\n",
              "  "
            ]
          },
          "metadata": {},
          "execution_count": 11
        }
      ]
    },
    {
      "cell_type": "markdown",
      "source": [
        "Accessing one element (by using scalar):"
      ],
      "metadata": {
        "id": "Fj-Y88_k_m8Q"
      }
    },
    {
      "cell_type": "code",
      "source": [
        "mammals.iloc[0]"
      ],
      "metadata": {
        "colab": {
          "base_uri": "https://localhost:8080/"
        },
        "id": "VgiGzF3K_uL6",
        "outputId": "8977d675-841d-44b7-c044-04045fd24450"
      },
      "execution_count": null,
      "outputs": [
        {
          "output_type": "execute_result",
          "data": {
            "text/plain": [
              "Mammal    Arctic fox\n",
              "body           3.385\n",
              "brain           44.5\n",
              "Name: 0, dtype: object"
            ]
          },
          "metadata": {},
          "execution_count": 15
        }
      ]
    },
    {
      "cell_type": "markdown",
      "source": [
        "Accessing more elements (by using list):"
      ],
      "metadata": {
        "id": "J9m0cZZy_8ud"
      }
    },
    {
      "cell_type": "code",
      "source": [
        "mammals.iloc[[0,1]]"
      ],
      "metadata": {
        "colab": {
          "base_uri": "https://localhost:8080/",
          "height": 112
        },
        "id": "pRXitGht_K1c",
        "outputId": "b31fe45f-285e-48c9-e7b7-0bfd7d5479a0"
      },
      "execution_count": null,
      "outputs": [
        {
          "output_type": "execute_result",
          "data": {
            "text/plain": [
              "       Mammal   body  brain\n",
              "0  Arctic fox  3.385   44.5\n",
              "1  Owl monkey  0.480   15.5"
            ],
            "text/html": [
              "\n",
              "  <div id=\"df-e7b1ae9f-6af0-483b-a4bf-3c15d224fd9e\">\n",
              "    <div class=\"colab-df-container\">\n",
              "      <div>\n",
              "<style scoped>\n",
              "    .dataframe tbody tr th:only-of-type {\n",
              "        vertical-align: middle;\n",
              "    }\n",
              "\n",
              "    .dataframe tbody tr th {\n",
              "        vertical-align: top;\n",
              "    }\n",
              "\n",
              "    .dataframe thead th {\n",
              "        text-align: right;\n",
              "    }\n",
              "</style>\n",
              "<table border=\"1\" class=\"dataframe\">\n",
              "  <thead>\n",
              "    <tr style=\"text-align: right;\">\n",
              "      <th></th>\n",
              "      <th>Mammal</th>\n",
              "      <th>body</th>\n",
              "      <th>brain</th>\n",
              "    </tr>\n",
              "  </thead>\n",
              "  <tbody>\n",
              "    <tr>\n",
              "      <th>0</th>\n",
              "      <td>Arctic fox</td>\n",
              "      <td>3.385</td>\n",
              "      <td>44.5</td>\n",
              "    </tr>\n",
              "    <tr>\n",
              "      <th>1</th>\n",
              "      <td>Owl monkey</td>\n",
              "      <td>0.480</td>\n",
              "      <td>15.5</td>\n",
              "    </tr>\n",
              "  </tbody>\n",
              "</table>\n",
              "</div>\n",
              "      <button class=\"colab-df-convert\" onclick=\"convertToInteractive('df-e7b1ae9f-6af0-483b-a4bf-3c15d224fd9e')\"\n",
              "              title=\"Convert this dataframe to an interactive table.\"\n",
              "              style=\"display:none;\">\n",
              "        \n",
              "  <svg xmlns=\"http://www.w3.org/2000/svg\" height=\"24px\"viewBox=\"0 0 24 24\"\n",
              "       width=\"24px\">\n",
              "    <path d=\"M0 0h24v24H0V0z\" fill=\"none\"/>\n",
              "    <path d=\"M18.56 5.44l.94 2.06.94-2.06 2.06-.94-2.06-.94-.94-2.06-.94 2.06-2.06.94zm-11 1L8.5 8.5l.94-2.06 2.06-.94-2.06-.94L8.5 2.5l-.94 2.06-2.06.94zm10 10l.94 2.06.94-2.06 2.06-.94-2.06-.94-.94-2.06-.94 2.06-2.06.94z\"/><path d=\"M17.41 7.96l-1.37-1.37c-.4-.4-.92-.59-1.43-.59-.52 0-1.04.2-1.43.59L10.3 9.45l-7.72 7.72c-.78.78-.78 2.05 0 2.83L4 21.41c.39.39.9.59 1.41.59.51 0 1.02-.2 1.41-.59l7.78-7.78 2.81-2.81c.8-.78.8-2.07 0-2.86zM5.41 20L4 18.59l7.72-7.72 1.47 1.35L5.41 20z\"/>\n",
              "  </svg>\n",
              "      </button>\n",
              "      \n",
              "  <style>\n",
              "    .colab-df-container {\n",
              "      display:flex;\n",
              "      flex-wrap:wrap;\n",
              "      gap: 12px;\n",
              "    }\n",
              "\n",
              "    .colab-df-convert {\n",
              "      background-color: #E8F0FE;\n",
              "      border: none;\n",
              "      border-radius: 50%;\n",
              "      cursor: pointer;\n",
              "      display: none;\n",
              "      fill: #1967D2;\n",
              "      height: 32px;\n",
              "      padding: 0 0 0 0;\n",
              "      width: 32px;\n",
              "    }\n",
              "\n",
              "    .colab-df-convert:hover {\n",
              "      background-color: #E2EBFA;\n",
              "      box-shadow: 0px 1px 2px rgba(60, 64, 67, 0.3), 0px 1px 3px 1px rgba(60, 64, 67, 0.15);\n",
              "      fill: #174EA6;\n",
              "    }\n",
              "\n",
              "    [theme=dark] .colab-df-convert {\n",
              "      background-color: #3B4455;\n",
              "      fill: #D2E3FC;\n",
              "    }\n",
              "\n",
              "    [theme=dark] .colab-df-convert:hover {\n",
              "      background-color: #434B5C;\n",
              "      box-shadow: 0px 1px 3px 1px rgba(0, 0, 0, 0.15);\n",
              "      filter: drop-shadow(0px 1px 2px rgba(0, 0, 0, 0.3));\n",
              "      fill: #FFFFFF;\n",
              "    }\n",
              "  </style>\n",
              "\n",
              "      <script>\n",
              "        const buttonEl =\n",
              "          document.querySelector('#df-e7b1ae9f-6af0-483b-a4bf-3c15d224fd9e button.colab-df-convert');\n",
              "        buttonEl.style.display =\n",
              "          google.colab.kernel.accessAllowed ? 'block' : 'none';\n",
              "\n",
              "        async function convertToInteractive(key) {\n",
              "          const element = document.querySelector('#df-e7b1ae9f-6af0-483b-a4bf-3c15d224fd9e');\n",
              "          const dataTable =\n",
              "            await google.colab.kernel.invokeFunction('convertToInteractive',\n",
              "                                                     [key], {});\n",
              "          if (!dataTable) return;\n",
              "\n",
              "          const docLinkHtml = 'Like what you see? Visit the ' +\n",
              "            '<a target=\"_blank\" href=https://colab.research.google.com/notebooks/data_table.ipynb>data table notebook</a>'\n",
              "            + ' to learn more about interactive tables.';\n",
              "          element.innerHTML = '';\n",
              "          dataTable['output_type'] = 'display_data';\n",
              "          await google.colab.output.renderOutput(dataTable, element);\n",
              "          const docLink = document.createElement('div');\n",
              "          docLink.innerHTML = docLinkHtml;\n",
              "          element.appendChild(docLink);\n",
              "        }\n",
              "      </script>\n",
              "    </div>\n",
              "  </div>\n",
              "  "
            ]
          },
          "metadata": {},
          "execution_count": 18
        }
      ]
    },
    {
      "cell_type": "markdown",
      "source": [
        "Accessing more objects (by using slice notation):"
      ],
      "metadata": {
        "id": "UdRcxIAtASlu"
      }
    },
    {
      "cell_type": "code",
      "source": [
        "mammals.iloc[:3]"
      ],
      "metadata": {
        "colab": {
          "base_uri": "https://localhost:8080/",
          "height": 143
        },
        "id": "NPJF50qXAGHm",
        "outputId": "2f38f305-6f9e-422f-9a73-abc276aeb8db"
      },
      "execution_count": null,
      "outputs": [
        {
          "output_type": "execute_result",
          "data": {
            "text/plain": [
              "            Mammal   body  brain\n",
              "0       Arctic fox  3.385   44.5\n",
              "1       Owl monkey  0.480   15.5\n",
              "2  Mountain beaver  1.350    8.1"
            ],
            "text/html": [
              "\n",
              "  <div id=\"df-a2ccbd2e-5008-4f85-862a-e69f5d1918a0\">\n",
              "    <div class=\"colab-df-container\">\n",
              "      <div>\n",
              "<style scoped>\n",
              "    .dataframe tbody tr th:only-of-type {\n",
              "        vertical-align: middle;\n",
              "    }\n",
              "\n",
              "    .dataframe tbody tr th {\n",
              "        vertical-align: top;\n",
              "    }\n",
              "\n",
              "    .dataframe thead th {\n",
              "        text-align: right;\n",
              "    }\n",
              "</style>\n",
              "<table border=\"1\" class=\"dataframe\">\n",
              "  <thead>\n",
              "    <tr style=\"text-align: right;\">\n",
              "      <th></th>\n",
              "      <th>Mammal</th>\n",
              "      <th>body</th>\n",
              "      <th>brain</th>\n",
              "    </tr>\n",
              "  </thead>\n",
              "  <tbody>\n",
              "    <tr>\n",
              "      <th>0</th>\n",
              "      <td>Arctic fox</td>\n",
              "      <td>3.385</td>\n",
              "      <td>44.5</td>\n",
              "    </tr>\n",
              "    <tr>\n",
              "      <th>1</th>\n",
              "      <td>Owl monkey</td>\n",
              "      <td>0.480</td>\n",
              "      <td>15.5</td>\n",
              "    </tr>\n",
              "    <tr>\n",
              "      <th>2</th>\n",
              "      <td>Mountain beaver</td>\n",
              "      <td>1.350</td>\n",
              "      <td>8.1</td>\n",
              "    </tr>\n",
              "  </tbody>\n",
              "</table>\n",
              "</div>\n",
              "      <button class=\"colab-df-convert\" onclick=\"convertToInteractive('df-a2ccbd2e-5008-4f85-862a-e69f5d1918a0')\"\n",
              "              title=\"Convert this dataframe to an interactive table.\"\n",
              "              style=\"display:none;\">\n",
              "        \n",
              "  <svg xmlns=\"http://www.w3.org/2000/svg\" height=\"24px\"viewBox=\"0 0 24 24\"\n",
              "       width=\"24px\">\n",
              "    <path d=\"M0 0h24v24H0V0z\" fill=\"none\"/>\n",
              "    <path d=\"M18.56 5.44l.94 2.06.94-2.06 2.06-.94-2.06-.94-.94-2.06-.94 2.06-2.06.94zm-11 1L8.5 8.5l.94-2.06 2.06-.94-2.06-.94L8.5 2.5l-.94 2.06-2.06.94zm10 10l.94 2.06.94-2.06 2.06-.94-2.06-.94-.94-2.06-.94 2.06-2.06.94z\"/><path d=\"M17.41 7.96l-1.37-1.37c-.4-.4-.92-.59-1.43-.59-.52 0-1.04.2-1.43.59L10.3 9.45l-7.72 7.72c-.78.78-.78 2.05 0 2.83L4 21.41c.39.39.9.59 1.41.59.51 0 1.02-.2 1.41-.59l7.78-7.78 2.81-2.81c.8-.78.8-2.07 0-2.86zM5.41 20L4 18.59l7.72-7.72 1.47 1.35L5.41 20z\"/>\n",
              "  </svg>\n",
              "      </button>\n",
              "      \n",
              "  <style>\n",
              "    .colab-df-container {\n",
              "      display:flex;\n",
              "      flex-wrap:wrap;\n",
              "      gap: 12px;\n",
              "    }\n",
              "\n",
              "    .colab-df-convert {\n",
              "      background-color: #E8F0FE;\n",
              "      border: none;\n",
              "      border-radius: 50%;\n",
              "      cursor: pointer;\n",
              "      display: none;\n",
              "      fill: #1967D2;\n",
              "      height: 32px;\n",
              "      padding: 0 0 0 0;\n",
              "      width: 32px;\n",
              "    }\n",
              "\n",
              "    .colab-df-convert:hover {\n",
              "      background-color: #E2EBFA;\n",
              "      box-shadow: 0px 1px 2px rgba(60, 64, 67, 0.3), 0px 1px 3px 1px rgba(60, 64, 67, 0.15);\n",
              "      fill: #174EA6;\n",
              "    }\n",
              "\n",
              "    [theme=dark] .colab-df-convert {\n",
              "      background-color: #3B4455;\n",
              "      fill: #D2E3FC;\n",
              "    }\n",
              "\n",
              "    [theme=dark] .colab-df-convert:hover {\n",
              "      background-color: #434B5C;\n",
              "      box-shadow: 0px 1px 3px 1px rgba(0, 0, 0, 0.15);\n",
              "      filter: drop-shadow(0px 1px 2px rgba(0, 0, 0, 0.3));\n",
              "      fill: #FFFFFF;\n",
              "    }\n",
              "  </style>\n",
              "\n",
              "      <script>\n",
              "        const buttonEl =\n",
              "          document.querySelector('#df-a2ccbd2e-5008-4f85-862a-e69f5d1918a0 button.colab-df-convert');\n",
              "        buttonEl.style.display =\n",
              "          google.colab.kernel.accessAllowed ? 'block' : 'none';\n",
              "\n",
              "        async function convertToInteractive(key) {\n",
              "          const element = document.querySelector('#df-a2ccbd2e-5008-4f85-862a-e69f5d1918a0');\n",
              "          const dataTable =\n",
              "            await google.colab.kernel.invokeFunction('convertToInteractive',\n",
              "                                                     [key], {});\n",
              "          if (!dataTable) return;\n",
              "\n",
              "          const docLinkHtml = 'Like what you see? Visit the ' +\n",
              "            '<a target=\"_blank\" href=https://colab.research.google.com/notebooks/data_table.ipynb>data table notebook</a>'\n",
              "            + ' to learn more about interactive tables.';\n",
              "          element.innerHTML = '';\n",
              "          dataTable['output_type'] = 'display_data';\n",
              "          await google.colab.output.renderOutput(dataTable, element);\n",
              "          const docLink = document.createElement('div');\n",
              "          docLink.innerHTML = docLinkHtml;\n",
              "          element.appendChild(docLink);\n",
              "        }\n",
              "      </script>\n",
              "    </div>\n",
              "  </div>\n",
              "  "
            ]
          },
          "metadata": {},
          "execution_count": 23
        }
      ]
    },
    {
      "cell_type": "markdown",
      "source": [
        "Accessing some rows and some columns (by using slice notation):"
      ],
      "metadata": {
        "id": "xFyIIQH1Ajea"
      }
    },
    {
      "cell_type": "code",
      "source": [
        "mammals.iloc[0:5, 0:2]"
      ],
      "metadata": {
        "colab": {
          "base_uri": "https://localhost:8080/",
          "height": 206
        },
        "id": "POQHlnB0ArSR",
        "outputId": "106a7aa7-102d-41dd-ee38-9e103ed14318"
      },
      "execution_count": null,
      "outputs": [
        {
          "output_type": "execute_result",
          "data": {
            "text/plain": [
              "            Mammal     body\n",
              "0       Arctic fox    3.385\n",
              "1       Owl monkey    0.480\n",
              "2  Mountain beaver    1.350\n",
              "3              Cow  465.000\n",
              "4        Grey wolf   36.330"
            ],
            "text/html": [
              "\n",
              "  <div id=\"df-d5f6446a-5484-4f7d-978a-1541040a65e3\">\n",
              "    <div class=\"colab-df-container\">\n",
              "      <div>\n",
              "<style scoped>\n",
              "    .dataframe tbody tr th:only-of-type {\n",
              "        vertical-align: middle;\n",
              "    }\n",
              "\n",
              "    .dataframe tbody tr th {\n",
              "        vertical-align: top;\n",
              "    }\n",
              "\n",
              "    .dataframe thead th {\n",
              "        text-align: right;\n",
              "    }\n",
              "</style>\n",
              "<table border=\"1\" class=\"dataframe\">\n",
              "  <thead>\n",
              "    <tr style=\"text-align: right;\">\n",
              "      <th></th>\n",
              "      <th>Mammal</th>\n",
              "      <th>body</th>\n",
              "    </tr>\n",
              "  </thead>\n",
              "  <tbody>\n",
              "    <tr>\n",
              "      <th>0</th>\n",
              "      <td>Arctic fox</td>\n",
              "      <td>3.385</td>\n",
              "    </tr>\n",
              "    <tr>\n",
              "      <th>1</th>\n",
              "      <td>Owl monkey</td>\n",
              "      <td>0.480</td>\n",
              "    </tr>\n",
              "    <tr>\n",
              "      <th>2</th>\n",
              "      <td>Mountain beaver</td>\n",
              "      <td>1.350</td>\n",
              "    </tr>\n",
              "    <tr>\n",
              "      <th>3</th>\n",
              "      <td>Cow</td>\n",
              "      <td>465.000</td>\n",
              "    </tr>\n",
              "    <tr>\n",
              "      <th>4</th>\n",
              "      <td>Grey wolf</td>\n",
              "      <td>36.330</td>\n",
              "    </tr>\n",
              "  </tbody>\n",
              "</table>\n",
              "</div>\n",
              "      <button class=\"colab-df-convert\" onclick=\"convertToInteractive('df-d5f6446a-5484-4f7d-978a-1541040a65e3')\"\n",
              "              title=\"Convert this dataframe to an interactive table.\"\n",
              "              style=\"display:none;\">\n",
              "        \n",
              "  <svg xmlns=\"http://www.w3.org/2000/svg\" height=\"24px\"viewBox=\"0 0 24 24\"\n",
              "       width=\"24px\">\n",
              "    <path d=\"M0 0h24v24H0V0z\" fill=\"none\"/>\n",
              "    <path d=\"M18.56 5.44l.94 2.06.94-2.06 2.06-.94-2.06-.94-.94-2.06-.94 2.06-2.06.94zm-11 1L8.5 8.5l.94-2.06 2.06-.94-2.06-.94L8.5 2.5l-.94 2.06-2.06.94zm10 10l.94 2.06.94-2.06 2.06-.94-2.06-.94-.94-2.06-.94 2.06-2.06.94z\"/><path d=\"M17.41 7.96l-1.37-1.37c-.4-.4-.92-.59-1.43-.59-.52 0-1.04.2-1.43.59L10.3 9.45l-7.72 7.72c-.78.78-.78 2.05 0 2.83L4 21.41c.39.39.9.59 1.41.59.51 0 1.02-.2 1.41-.59l7.78-7.78 2.81-2.81c.8-.78.8-2.07 0-2.86zM5.41 20L4 18.59l7.72-7.72 1.47 1.35L5.41 20z\"/>\n",
              "  </svg>\n",
              "      </button>\n",
              "      \n",
              "  <style>\n",
              "    .colab-df-container {\n",
              "      display:flex;\n",
              "      flex-wrap:wrap;\n",
              "      gap: 12px;\n",
              "    }\n",
              "\n",
              "    .colab-df-convert {\n",
              "      background-color: #E8F0FE;\n",
              "      border: none;\n",
              "      border-radius: 50%;\n",
              "      cursor: pointer;\n",
              "      display: none;\n",
              "      fill: #1967D2;\n",
              "      height: 32px;\n",
              "      padding: 0 0 0 0;\n",
              "      width: 32px;\n",
              "    }\n",
              "\n",
              "    .colab-df-convert:hover {\n",
              "      background-color: #E2EBFA;\n",
              "      box-shadow: 0px 1px 2px rgba(60, 64, 67, 0.3), 0px 1px 3px 1px rgba(60, 64, 67, 0.15);\n",
              "      fill: #174EA6;\n",
              "    }\n",
              "\n",
              "    [theme=dark] .colab-df-convert {\n",
              "      background-color: #3B4455;\n",
              "      fill: #D2E3FC;\n",
              "    }\n",
              "\n",
              "    [theme=dark] .colab-df-convert:hover {\n",
              "      background-color: #434B5C;\n",
              "      box-shadow: 0px 1px 3px 1px rgba(0, 0, 0, 0.15);\n",
              "      filter: drop-shadow(0px 1px 2px rgba(0, 0, 0, 0.3));\n",
              "      fill: #FFFFFF;\n",
              "    }\n",
              "  </style>\n",
              "\n",
              "      <script>\n",
              "        const buttonEl =\n",
              "          document.querySelector('#df-d5f6446a-5484-4f7d-978a-1541040a65e3 button.colab-df-convert');\n",
              "        buttonEl.style.display =\n",
              "          google.colab.kernel.accessAllowed ? 'block' : 'none';\n",
              "\n",
              "        async function convertToInteractive(key) {\n",
              "          const element = document.querySelector('#df-d5f6446a-5484-4f7d-978a-1541040a65e3');\n",
              "          const dataTable =\n",
              "            await google.colab.kernel.invokeFunction('convertToInteractive',\n",
              "                                                     [key], {});\n",
              "          if (!dataTable) return;\n",
              "\n",
              "          const docLinkHtml = 'Like what you see? Visit the ' +\n",
              "            '<a target=\"_blank\" href=https://colab.research.google.com/notebooks/data_table.ipynb>data table notebook</a>'\n",
              "            + ' to learn more about interactive tables.';\n",
              "          element.innerHTML = '';\n",
              "          dataTable['output_type'] = 'display_data';\n",
              "          await google.colab.output.renderOutput(dataTable, element);\n",
              "          const docLink = document.createElement('div');\n",
              "          docLink.innerHTML = docLinkHtml;\n",
              "          element.appendChild(docLink);\n",
              "        }\n",
              "      </script>\n",
              "    </div>\n",
              "  </div>\n",
              "  "
            ]
          },
          "metadata": {},
          "execution_count": 27
        }
      ]
    },
    {
      "cell_type": "markdown",
      "source": [
        "Accessing last rows and last columns:"
      ],
      "metadata": {
        "id": "l8pD_IU1AxnP"
      }
    },
    {
      "cell_type": "code",
      "source": [
        "mammals.iloc[-3:, -2:]"
      ],
      "metadata": {
        "colab": {
          "base_uri": "https://localhost:8080/",
          "height": 143
        },
        "id": "-M9irZxfA0xQ",
        "outputId": "12576e41-8e23-4e63-e3ee-68e311c0cc92"
      },
      "execution_count": null,
      "outputs": [
        {
          "output_type": "execute_result",
          "data": {
            "text/plain": [
              "     body  brain\n",
              "59  1.620   11.4\n",
              "60  0.104    2.5\n",
              "61  4.235   50.4"
            ],
            "text/html": [
              "\n",
              "  <div id=\"df-60cc030a-3b51-4220-99d0-a6a37ea7ff54\">\n",
              "    <div class=\"colab-df-container\">\n",
              "      <div>\n",
              "<style scoped>\n",
              "    .dataframe tbody tr th:only-of-type {\n",
              "        vertical-align: middle;\n",
              "    }\n",
              "\n",
              "    .dataframe tbody tr th {\n",
              "        vertical-align: top;\n",
              "    }\n",
              "\n",
              "    .dataframe thead th {\n",
              "        text-align: right;\n",
              "    }\n",
              "</style>\n",
              "<table border=\"1\" class=\"dataframe\">\n",
              "  <thead>\n",
              "    <tr style=\"text-align: right;\">\n",
              "      <th></th>\n",
              "      <th>body</th>\n",
              "      <th>brain</th>\n",
              "    </tr>\n",
              "  </thead>\n",
              "  <tbody>\n",
              "    <tr>\n",
              "      <th>59</th>\n",
              "      <td>1.620</td>\n",
              "      <td>11.4</td>\n",
              "    </tr>\n",
              "    <tr>\n",
              "      <th>60</th>\n",
              "      <td>0.104</td>\n",
              "      <td>2.5</td>\n",
              "    </tr>\n",
              "    <tr>\n",
              "      <th>61</th>\n",
              "      <td>4.235</td>\n",
              "      <td>50.4</td>\n",
              "    </tr>\n",
              "  </tbody>\n",
              "</table>\n",
              "</div>\n",
              "      <button class=\"colab-df-convert\" onclick=\"convertToInteractive('df-60cc030a-3b51-4220-99d0-a6a37ea7ff54')\"\n",
              "              title=\"Convert this dataframe to an interactive table.\"\n",
              "              style=\"display:none;\">\n",
              "        \n",
              "  <svg xmlns=\"http://www.w3.org/2000/svg\" height=\"24px\"viewBox=\"0 0 24 24\"\n",
              "       width=\"24px\">\n",
              "    <path d=\"M0 0h24v24H0V0z\" fill=\"none\"/>\n",
              "    <path d=\"M18.56 5.44l.94 2.06.94-2.06 2.06-.94-2.06-.94-.94-2.06-.94 2.06-2.06.94zm-11 1L8.5 8.5l.94-2.06 2.06-.94-2.06-.94L8.5 2.5l-.94 2.06-2.06.94zm10 10l.94 2.06.94-2.06 2.06-.94-2.06-.94-.94-2.06-.94 2.06-2.06.94z\"/><path d=\"M17.41 7.96l-1.37-1.37c-.4-.4-.92-.59-1.43-.59-.52 0-1.04.2-1.43.59L10.3 9.45l-7.72 7.72c-.78.78-.78 2.05 0 2.83L4 21.41c.39.39.9.59 1.41.59.51 0 1.02-.2 1.41-.59l7.78-7.78 2.81-2.81c.8-.78.8-2.07 0-2.86zM5.41 20L4 18.59l7.72-7.72 1.47 1.35L5.41 20z\"/>\n",
              "  </svg>\n",
              "      </button>\n",
              "      \n",
              "  <style>\n",
              "    .colab-df-container {\n",
              "      display:flex;\n",
              "      flex-wrap:wrap;\n",
              "      gap: 12px;\n",
              "    }\n",
              "\n",
              "    .colab-df-convert {\n",
              "      background-color: #E8F0FE;\n",
              "      border: none;\n",
              "      border-radius: 50%;\n",
              "      cursor: pointer;\n",
              "      display: none;\n",
              "      fill: #1967D2;\n",
              "      height: 32px;\n",
              "      padding: 0 0 0 0;\n",
              "      width: 32px;\n",
              "    }\n",
              "\n",
              "    .colab-df-convert:hover {\n",
              "      background-color: #E2EBFA;\n",
              "      box-shadow: 0px 1px 2px rgba(60, 64, 67, 0.3), 0px 1px 3px 1px rgba(60, 64, 67, 0.15);\n",
              "      fill: #174EA6;\n",
              "    }\n",
              "\n",
              "    [theme=dark] .colab-df-convert {\n",
              "      background-color: #3B4455;\n",
              "      fill: #D2E3FC;\n",
              "    }\n",
              "\n",
              "    [theme=dark] .colab-df-convert:hover {\n",
              "      background-color: #434B5C;\n",
              "      box-shadow: 0px 1px 3px 1px rgba(0, 0, 0, 0.15);\n",
              "      filter: drop-shadow(0px 1px 2px rgba(0, 0, 0, 0.3));\n",
              "      fill: #FFFFFF;\n",
              "    }\n",
              "  </style>\n",
              "\n",
              "      <script>\n",
              "        const buttonEl =\n",
              "          document.querySelector('#df-60cc030a-3b51-4220-99d0-a6a37ea7ff54 button.colab-df-convert');\n",
              "        buttonEl.style.display =\n",
              "          google.colab.kernel.accessAllowed ? 'block' : 'none';\n",
              "\n",
              "        async function convertToInteractive(key) {\n",
              "          const element = document.querySelector('#df-60cc030a-3b51-4220-99d0-a6a37ea7ff54');\n",
              "          const dataTable =\n",
              "            await google.colab.kernel.invokeFunction('convertToInteractive',\n",
              "                                                     [key], {});\n",
              "          if (!dataTable) return;\n",
              "\n",
              "          const docLinkHtml = 'Like what you see? Visit the ' +\n",
              "            '<a target=\"_blank\" href=https://colab.research.google.com/notebooks/data_table.ipynb>data table notebook</a>'\n",
              "            + ' to learn more about interactive tables.';\n",
              "          element.innerHTML = '';\n",
              "          dataTable['output_type'] = 'display_data';\n",
              "          await google.colab.output.renderOutput(dataTable, element);\n",
              "          const docLink = document.createElement('div');\n",
              "          docLink.innerHTML = docLinkHtml;\n",
              "          element.appendChild(docLink);\n",
              "        }\n",
              "      </script>\n",
              "    </div>\n",
              "  </div>\n",
              "  "
            ]
          },
          "metadata": {},
          "execution_count": 29
        }
      ]
    },
    {
      "cell_type": "code",
      "source": [
        "mammals.iloc[-3:,:]"
      ],
      "metadata": {
        "colab": {
          "base_uri": "https://localhost:8080/",
          "height": 143
        },
        "outputId": "375b67d1-ad62-44e2-e4ab-7400b91fc5b6",
        "id": "3XfVWj3FEyS2"
      },
      "execution_count": null,
      "outputs": [
        {
          "output_type": "execute_result",
          "data": {
            "text/plain": [
              "        Mammal   body  brain\n",
              "59   Phalanger  1.620   11.4\n",
              "60  Tree shrew  0.104    2.5\n",
              "61     Red fox  4.235   50.4"
            ],
            "text/html": [
              "\n",
              "  <div id=\"df-2dacb440-0606-47d0-a9b6-4e4987ed51b9\">\n",
              "    <div class=\"colab-df-container\">\n",
              "      <div>\n",
              "<style scoped>\n",
              "    .dataframe tbody tr th:only-of-type {\n",
              "        vertical-align: middle;\n",
              "    }\n",
              "\n",
              "    .dataframe tbody tr th {\n",
              "        vertical-align: top;\n",
              "    }\n",
              "\n",
              "    .dataframe thead th {\n",
              "        text-align: right;\n",
              "    }\n",
              "</style>\n",
              "<table border=\"1\" class=\"dataframe\">\n",
              "  <thead>\n",
              "    <tr style=\"text-align: right;\">\n",
              "      <th></th>\n",
              "      <th>Mammal</th>\n",
              "      <th>body</th>\n",
              "      <th>brain</th>\n",
              "    </tr>\n",
              "  </thead>\n",
              "  <tbody>\n",
              "    <tr>\n",
              "      <th>59</th>\n",
              "      <td>Phalanger</td>\n",
              "      <td>1.620</td>\n",
              "      <td>11.4</td>\n",
              "    </tr>\n",
              "    <tr>\n",
              "      <th>60</th>\n",
              "      <td>Tree shrew</td>\n",
              "      <td>0.104</td>\n",
              "      <td>2.5</td>\n",
              "    </tr>\n",
              "    <tr>\n",
              "      <th>61</th>\n",
              "      <td>Red fox</td>\n",
              "      <td>4.235</td>\n",
              "      <td>50.4</td>\n",
              "    </tr>\n",
              "  </tbody>\n",
              "</table>\n",
              "</div>\n",
              "      <button class=\"colab-df-convert\" onclick=\"convertToInteractive('df-2dacb440-0606-47d0-a9b6-4e4987ed51b9')\"\n",
              "              title=\"Convert this dataframe to an interactive table.\"\n",
              "              style=\"display:none;\">\n",
              "        \n",
              "  <svg xmlns=\"http://www.w3.org/2000/svg\" height=\"24px\"viewBox=\"0 0 24 24\"\n",
              "       width=\"24px\">\n",
              "    <path d=\"M0 0h24v24H0V0z\" fill=\"none\"/>\n",
              "    <path d=\"M18.56 5.44l.94 2.06.94-2.06 2.06-.94-2.06-.94-.94-2.06-.94 2.06-2.06.94zm-11 1L8.5 8.5l.94-2.06 2.06-.94-2.06-.94L8.5 2.5l-.94 2.06-2.06.94zm10 10l.94 2.06.94-2.06 2.06-.94-2.06-.94-.94-2.06-.94 2.06-2.06.94z\"/><path d=\"M17.41 7.96l-1.37-1.37c-.4-.4-.92-.59-1.43-.59-.52 0-1.04.2-1.43.59L10.3 9.45l-7.72 7.72c-.78.78-.78 2.05 0 2.83L4 21.41c.39.39.9.59 1.41.59.51 0 1.02-.2 1.41-.59l7.78-7.78 2.81-2.81c.8-.78.8-2.07 0-2.86zM5.41 20L4 18.59l7.72-7.72 1.47 1.35L5.41 20z\"/>\n",
              "  </svg>\n",
              "      </button>\n",
              "      \n",
              "  <style>\n",
              "    .colab-df-container {\n",
              "      display:flex;\n",
              "      flex-wrap:wrap;\n",
              "      gap: 12px;\n",
              "    }\n",
              "\n",
              "    .colab-df-convert {\n",
              "      background-color: #E8F0FE;\n",
              "      border: none;\n",
              "      border-radius: 50%;\n",
              "      cursor: pointer;\n",
              "      display: none;\n",
              "      fill: #1967D2;\n",
              "      height: 32px;\n",
              "      padding: 0 0 0 0;\n",
              "      width: 32px;\n",
              "    }\n",
              "\n",
              "    .colab-df-convert:hover {\n",
              "      background-color: #E2EBFA;\n",
              "      box-shadow: 0px 1px 2px rgba(60, 64, 67, 0.3), 0px 1px 3px 1px rgba(60, 64, 67, 0.15);\n",
              "      fill: #174EA6;\n",
              "    }\n",
              "\n",
              "    [theme=dark] .colab-df-convert {\n",
              "      background-color: #3B4455;\n",
              "      fill: #D2E3FC;\n",
              "    }\n",
              "\n",
              "    [theme=dark] .colab-df-convert:hover {\n",
              "      background-color: #434B5C;\n",
              "      box-shadow: 0px 1px 3px 1px rgba(0, 0, 0, 0.15);\n",
              "      filter: drop-shadow(0px 1px 2px rgba(0, 0, 0, 0.3));\n",
              "      fill: #FFFFFF;\n",
              "    }\n",
              "  </style>\n",
              "\n",
              "      <script>\n",
              "        const buttonEl =\n",
              "          document.querySelector('#df-2dacb440-0606-47d0-a9b6-4e4987ed51b9 button.colab-df-convert');\n",
              "        buttonEl.style.display =\n",
              "          google.colab.kernel.accessAllowed ? 'block' : 'none';\n",
              "\n",
              "        async function convertToInteractive(key) {\n",
              "          const element = document.querySelector('#df-2dacb440-0606-47d0-a9b6-4e4987ed51b9');\n",
              "          const dataTable =\n",
              "            await google.colab.kernel.invokeFunction('convertToInteractive',\n",
              "                                                     [key], {});\n",
              "          if (!dataTable) return;\n",
              "\n",
              "          const docLinkHtml = 'Like what you see? Visit the ' +\n",
              "            '<a target=\"_blank\" href=https://colab.research.google.com/notebooks/data_table.ipynb>data table notebook</a>'\n",
              "            + ' to learn more about interactive tables.';\n",
              "          element.innerHTML = '';\n",
              "          dataTable['output_type'] = 'display_data';\n",
              "          await google.colab.output.renderOutput(dataTable, element);\n",
              "          const docLink = document.createElement('div');\n",
              "          docLink.innerHTML = docLinkHtml;\n",
              "          element.appendChild(docLink);\n",
              "        }\n",
              "      </script>\n",
              "    </div>\n",
              "  </div>\n",
              "  "
            ]
          },
          "metadata": {},
          "execution_count": 30
        }
      ]
    },
    {
      "cell_type": "markdown",
      "source": [
        "### By using sample"
      ],
      "metadata": {
        "id": "YE73g-tC_r_g"
      }
    },
    {
      "cell_type": "code",
      "source": [
        "mammals.sample(3)"
      ],
      "metadata": {
        "colab": {
          "base_uri": "https://localhost:8080/",
          "height": 143
        },
        "id": "mSu0FxFME-K-",
        "outputId": "9e3932f1-516b-4874-8583-7b5a848d3a0e"
      },
      "execution_count": null,
      "outputs": [
        {
          "output_type": "execute_result",
          "data": {
            "text/plain": [
              "             Mammal     body  brain\n",
              "0        Arctic fox    3.385   44.5\n",
              "41            Okapi  250.000  490.0\n",
              "14  Star-nosed mole    0.060    1.0"
            ],
            "text/html": [
              "\n",
              "  <div id=\"df-198ac82a-53f2-4a92-87da-f0db5b5e6679\">\n",
              "    <div class=\"colab-df-container\">\n",
              "      <div>\n",
              "<style scoped>\n",
              "    .dataframe tbody tr th:only-of-type {\n",
              "        vertical-align: middle;\n",
              "    }\n",
              "\n",
              "    .dataframe tbody tr th {\n",
              "        vertical-align: top;\n",
              "    }\n",
              "\n",
              "    .dataframe thead th {\n",
              "        text-align: right;\n",
              "    }\n",
              "</style>\n",
              "<table border=\"1\" class=\"dataframe\">\n",
              "  <thead>\n",
              "    <tr style=\"text-align: right;\">\n",
              "      <th></th>\n",
              "      <th>Mammal</th>\n",
              "      <th>body</th>\n",
              "      <th>brain</th>\n",
              "    </tr>\n",
              "  </thead>\n",
              "  <tbody>\n",
              "    <tr>\n",
              "      <th>0</th>\n",
              "      <td>Arctic fox</td>\n",
              "      <td>3.385</td>\n",
              "      <td>44.5</td>\n",
              "    </tr>\n",
              "    <tr>\n",
              "      <th>41</th>\n",
              "      <td>Okapi</td>\n",
              "      <td>250.000</td>\n",
              "      <td>490.0</td>\n",
              "    </tr>\n",
              "    <tr>\n",
              "      <th>14</th>\n",
              "      <td>Star-nosed mole</td>\n",
              "      <td>0.060</td>\n",
              "      <td>1.0</td>\n",
              "    </tr>\n",
              "  </tbody>\n",
              "</table>\n",
              "</div>\n",
              "      <button class=\"colab-df-convert\" onclick=\"convertToInteractive('df-198ac82a-53f2-4a92-87da-f0db5b5e6679')\"\n",
              "              title=\"Convert this dataframe to an interactive table.\"\n",
              "              style=\"display:none;\">\n",
              "        \n",
              "  <svg xmlns=\"http://www.w3.org/2000/svg\" height=\"24px\"viewBox=\"0 0 24 24\"\n",
              "       width=\"24px\">\n",
              "    <path d=\"M0 0h24v24H0V0z\" fill=\"none\"/>\n",
              "    <path d=\"M18.56 5.44l.94 2.06.94-2.06 2.06-.94-2.06-.94-.94-2.06-.94 2.06-2.06.94zm-11 1L8.5 8.5l.94-2.06 2.06-.94-2.06-.94L8.5 2.5l-.94 2.06-2.06.94zm10 10l.94 2.06.94-2.06 2.06-.94-2.06-.94-.94-2.06-.94 2.06-2.06.94z\"/><path d=\"M17.41 7.96l-1.37-1.37c-.4-.4-.92-.59-1.43-.59-.52 0-1.04.2-1.43.59L10.3 9.45l-7.72 7.72c-.78.78-.78 2.05 0 2.83L4 21.41c.39.39.9.59 1.41.59.51 0 1.02-.2 1.41-.59l7.78-7.78 2.81-2.81c.8-.78.8-2.07 0-2.86zM5.41 20L4 18.59l7.72-7.72 1.47 1.35L5.41 20z\"/>\n",
              "  </svg>\n",
              "      </button>\n",
              "      \n",
              "  <style>\n",
              "    .colab-df-container {\n",
              "      display:flex;\n",
              "      flex-wrap:wrap;\n",
              "      gap: 12px;\n",
              "    }\n",
              "\n",
              "    .colab-df-convert {\n",
              "      background-color: #E8F0FE;\n",
              "      border: none;\n",
              "      border-radius: 50%;\n",
              "      cursor: pointer;\n",
              "      display: none;\n",
              "      fill: #1967D2;\n",
              "      height: 32px;\n",
              "      padding: 0 0 0 0;\n",
              "      width: 32px;\n",
              "    }\n",
              "\n",
              "    .colab-df-convert:hover {\n",
              "      background-color: #E2EBFA;\n",
              "      box-shadow: 0px 1px 2px rgba(60, 64, 67, 0.3), 0px 1px 3px 1px rgba(60, 64, 67, 0.15);\n",
              "      fill: #174EA6;\n",
              "    }\n",
              "\n",
              "    [theme=dark] .colab-df-convert {\n",
              "      background-color: #3B4455;\n",
              "      fill: #D2E3FC;\n",
              "    }\n",
              "\n",
              "    [theme=dark] .colab-df-convert:hover {\n",
              "      background-color: #434B5C;\n",
              "      box-shadow: 0px 1px 3px 1px rgba(0, 0, 0, 0.15);\n",
              "      filter: drop-shadow(0px 1px 2px rgba(0, 0, 0, 0.3));\n",
              "      fill: #FFFFFF;\n",
              "    }\n",
              "  </style>\n",
              "\n",
              "      <script>\n",
              "        const buttonEl =\n",
              "          document.querySelector('#df-198ac82a-53f2-4a92-87da-f0db5b5e6679 button.colab-df-convert');\n",
              "        buttonEl.style.display =\n",
              "          google.colab.kernel.accessAllowed ? 'block' : 'none';\n",
              "\n",
              "        async function convertToInteractive(key) {\n",
              "          const element = document.querySelector('#df-198ac82a-53f2-4a92-87da-f0db5b5e6679');\n",
              "          const dataTable =\n",
              "            await google.colab.kernel.invokeFunction('convertToInteractive',\n",
              "                                                     [key], {});\n",
              "          if (!dataTable) return;\n",
              "\n",
              "          const docLinkHtml = 'Like what you see? Visit the ' +\n",
              "            '<a target=\"_blank\" href=https://colab.research.google.com/notebooks/data_table.ipynb>data table notebook</a>'\n",
              "            + ' to learn more about interactive tables.';\n",
              "          element.innerHTML = '';\n",
              "          dataTable['output_type'] = 'display_data';\n",
              "          await google.colab.output.renderOutput(dataTable, element);\n",
              "          const docLink = document.createElement('div');\n",
              "          docLink.innerHTML = docLinkHtml;\n",
              "          element.appendChild(docLink);\n",
              "        }\n",
              "      </script>\n",
              "    </div>\n",
              "  </div>\n",
              "  "
            ]
          },
          "metadata": {},
          "execution_count": 31
        }
      ]
    },
    {
      "cell_type": "markdown",
      "source": [
        "## How to check number of unique values in the column:"
      ],
      "metadata": {
        "id": "hi3cjMtEtNDp"
      }
    },
    {
      "cell_type": "code",
      "source": [
        "mammals.nunique()"
      ],
      "metadata": {
        "colab": {
          "base_uri": "https://localhost:8080/"
        },
        "id": "37hkv7xWtRzW",
        "outputId": "6afa256a-4123-48b4-dd6d-533494d7e322"
      },
      "execution_count": null,
      "outputs": [
        {
          "output_type": "execute_result",
          "data": {
            "text/plain": [
              "Mammal    44\n",
              "body      42\n",
              "brain     41\n",
              "dtype: int64"
            ]
          },
          "metadata": {},
          "execution_count": 14
        }
      ]
    },
    {
      "cell_type": "markdown",
      "source": [
        "We can use that as a filter to indicate the column which have only 1 value:"
      ],
      "metadata": {
        "id": "7OkudWjRtkB1"
      }
    },
    {
      "cell_type": "code",
      "source": [
        "mammals.columns[mammals.nunique() <= 1]"
      ],
      "metadata": {
        "colab": {
          "base_uri": "https://localhost:8080/"
        },
        "id": "9I0Pqcz_tmWF",
        "outputId": "4f4c7679-fff8-42fc-a6d0-eb2b4e24e15b"
      },
      "execution_count": null,
      "outputs": [
        {
          "output_type": "execute_result",
          "data": {
            "text/plain": [
              "Index([], dtype='object')"
            ]
          },
          "metadata": {},
          "execution_count": 15
        }
      ]
    },
    {
      "cell_type": "markdown",
      "source": [
        "## How to drop records"
      ],
      "metadata": {
        "id": "z8d5g_B2G3eu"
      }
    },
    {
      "cell_type": "markdown",
      "source": [
        "Using direct index:"
      ],
      "metadata": {
        "id": "SolKROToHAdH"
      }
    },
    {
      "cell_type": "code",
      "source": [
        "mammals_cut1 = mammals.drop(3)"
      ],
      "metadata": {
        "id": "6AXI730BG6yh"
      },
      "execution_count": null,
      "outputs": []
    },
    {
      "cell_type": "markdown",
      "source": [
        "Using condition:"
      ],
      "metadata": {
        "id": "O3xgcJShHC_x"
      }
    },
    {
      "cell_type": "code",
      "source": [
        "mammals_cut2 = mammals.drop(mammals[(mammals['body'] >= 48) | (mammals['brain'] >= 166)].index)"
      ],
      "metadata": {
        "id": "GDdlrCONHEcX"
      },
      "execution_count": null,
      "outputs": []
    },
    {
      "cell_type": "markdown",
      "source": [
        "It can also be done in place, without the need of assignment:"
      ],
      "metadata": {
        "id": "6YtN4ua5p9wV"
      }
    },
    {
      "cell_type": "code",
      "source": [
        "mammals.drop(mammals[(mammals['body'] >= 48) | (mammals['brain'] >= 166)].index, inplace=True)"
      ],
      "metadata": {
        "id": "LlcQmp_AqE0Q"
      },
      "execution_count": null,
      "outputs": []
    },
    {
      "cell_type": "markdown",
      "source": [
        "Rows can also be dropped based on the presence of NA values:"
      ],
      "metadata": {
        "id": "bqkXYsPdqcM9"
      }
    },
    {
      "cell_type": "code",
      "source": [
        "# Let's add some row with empty values\n",
        "mammals.loc[62] = [\"\", np.NaN, 1]\n",
        "print(mammals)"
      ],
      "metadata": {
        "colab": {
          "base_uri": "https://localhost:8080/"
        },
        "id": "0_JV4rEPqh2D",
        "outputId": "4e01efd8-3f53-4efb-ac25-8135809603dd"
      },
      "execution_count": null,
      "outputs": [
        {
          "output_type": "stream",
          "name": "stdout",
          "text": [
            "                       Mammal    body   brain\n",
            "0                  Arctic fox   3.385   44.50\n",
            "1                  Owl monkey   0.480   15.50\n",
            "2             Mountain beaver   1.350    8.10\n",
            "4                   Grey wolf  36.330  119.50\n",
            "5                        Goat  27.660  115.00\n",
            "6                    Roe deer  14.830   98.20\n",
            "7                  Guinea pig   1.040    5.50\n",
            "8                      Verbet   4.190   58.00\n",
            "9                  Chinchilla   0.425    6.40\n",
            "10            Ground squirrel   0.101    4.00\n",
            "11     Arctic ground squirrel   0.920    5.70\n",
            "12  African giant pouched rat   1.000    6.60\n",
            "13  Lesser short-tailed shrew   0.005    0.14\n",
            "14            Star-nosed mole   0.060    1.00\n",
            "15      Nine-banded armadillo   3.500   10.80\n",
            "16                 Tree hyrax   2.000   12.30\n",
            "17               N.A. opossum   1.700    6.30\n",
            "19              Big brown bat   0.023    0.30\n",
            "22          European hedgehog   0.785    3.50\n",
            "23               Patas monkey  10.000  115.00\n",
            "24                        Cat   3.300   25.60\n",
            "25                     Galago   0.200    5.00\n",
            "26                      Genet   1.410   17.50\n",
            "30               Rock hyrax-a   0.750   12.30\n",
            "33              Water opossum   3.500    3.90\n",
            "35                   Kangaroo  35.000   56.00\n",
            "36      Yellow-bellied marmot   4.050   17.00\n",
            "37             Golden hamster   0.120    1.00\n",
            "38                      Mouse   0.023    0.40\n",
            "39           Little brown bat   0.010    0.25\n",
            "40                 Slow loris   1.400   12.50\n",
            "42                     Rabbit   2.500   12.10\n",
            "47            Desert hedgehog   0.550    2.40\n",
            "49               Rock hyrax-b   3.600   21.00\n",
            "50                    Raccoon   4.288   39.20\n",
            "51                        Rat   0.280    1.90\n",
            "52           E. American mole   0.075    1.20\n",
            "53                   Mole rat   0.122    3.00\n",
            "54                 Musk shrew   0.048    0.33\n",
            "56                    Echidna   3.000   25.00\n",
            "58                     Tenrec   0.900    2.60\n",
            "59                  Phalanger   1.620   11.40\n",
            "60                 Tree shrew   0.104    2.50\n",
            "61                    Red fox   4.235   50.40\n",
            "62                                NaN    1.00\n"
          ]
        }
      ]
    },
    {
      "cell_type": "code",
      "source": [
        "mammals.dropna(subset=['Mammal', 'body'], inplace=True)\n",
        "print(mammals)"
      ],
      "metadata": {
        "colab": {
          "base_uri": "https://localhost:8080/"
        },
        "id": "Qxb-NA4jrAha",
        "outputId": "d3e10d94-f66c-407b-f294-6d97d972cef0"
      },
      "execution_count": null,
      "outputs": [
        {
          "output_type": "stream",
          "name": "stdout",
          "text": [
            "                       Mammal    body   brain\n",
            "0                  Arctic fox   3.385   44.50\n",
            "1                  Owl monkey   0.480   15.50\n",
            "2             Mountain beaver   1.350    8.10\n",
            "4                   Grey wolf  36.330  119.50\n",
            "5                        Goat  27.660  115.00\n",
            "6                    Roe deer  14.830   98.20\n",
            "7                  Guinea pig   1.040    5.50\n",
            "8                      Verbet   4.190   58.00\n",
            "9                  Chinchilla   0.425    6.40\n",
            "10            Ground squirrel   0.101    4.00\n",
            "11     Arctic ground squirrel   0.920    5.70\n",
            "12  African giant pouched rat   1.000    6.60\n",
            "13  Lesser short-tailed shrew   0.005    0.14\n",
            "14            Star-nosed mole   0.060    1.00\n",
            "15      Nine-banded armadillo   3.500   10.80\n",
            "16                 Tree hyrax   2.000   12.30\n",
            "17               N.A. opossum   1.700    6.30\n",
            "19              Big brown bat   0.023    0.30\n",
            "22          European hedgehog   0.785    3.50\n",
            "23               Patas monkey  10.000  115.00\n",
            "24                        Cat   3.300   25.60\n",
            "25                     Galago   0.200    5.00\n",
            "26                      Genet   1.410   17.50\n",
            "30               Rock hyrax-a   0.750   12.30\n",
            "33              Water opossum   3.500    3.90\n",
            "35                   Kangaroo  35.000   56.00\n",
            "36      Yellow-bellied marmot   4.050   17.00\n",
            "37             Golden hamster   0.120    1.00\n",
            "38                      Mouse   0.023    0.40\n",
            "39           Little brown bat   0.010    0.25\n",
            "40                 Slow loris   1.400   12.50\n",
            "42                     Rabbit   2.500   12.10\n",
            "47            Desert hedgehog   0.550    2.40\n",
            "49               Rock hyrax-b   3.600   21.00\n",
            "50                    Raccoon   4.288   39.20\n",
            "51                        Rat   0.280    1.90\n",
            "52           E. American mole   0.075    1.20\n",
            "53                   Mole rat   0.122    3.00\n",
            "54                 Musk shrew   0.048    0.33\n",
            "56                    Echidna   3.000   25.00\n",
            "58                     Tenrec   0.900    2.60\n",
            "59                  Phalanger   1.620   11.40\n",
            "60                 Tree shrew   0.104    2.50\n",
            "61                    Red fox   4.235   50.40\n"
          ]
        }
      ]
    },
    {
      "cell_type": "markdown",
      "source": [
        "## How to increase number of dimensions in the array"
      ],
      "metadata": {
        "id": "wMvzBeNAwobv"
      }
    },
    {
      "cell_type": "code",
      "source": [
        "array = np.array([8, 3, 5, 6])\n",
        "print(array)\n",
        "array.shape"
      ],
      "metadata": {
        "colab": {
          "base_uri": "https://localhost:8080/"
        },
        "id": "MWTqRA1cwr65",
        "outputId": "db0ccd08-0eee-4570-9749-7802b49a5258"
      },
      "execution_count": null,
      "outputs": [
        {
          "output_type": "stream",
          "name": "stdout",
          "text": [
            "[8 3 5 6]\n"
          ]
        },
        {
          "output_type": "execute_result",
          "data": {
            "text/plain": [
              "(4,)"
            ]
          },
          "metadata": {},
          "execution_count": 22
        }
      ]
    },
    {
      "cell_type": "code",
      "source": [
        "array1 = array[np.newaxis, :]\n",
        "print(array1)\n",
        "array1.shape"
      ],
      "metadata": {
        "colab": {
          "base_uri": "https://localhost:8080/"
        },
        "id": "S05p93dBw82O",
        "outputId": "54c2f153-c028-44b7-e17e-232c56fa7b51"
      },
      "execution_count": null,
      "outputs": [
        {
          "output_type": "stream",
          "name": "stdout",
          "text": [
            "[[8 3 5 6]]\n"
          ]
        },
        {
          "output_type": "execute_result",
          "data": {
            "text/plain": [
              "(1, 4)"
            ]
          },
          "metadata": {},
          "execution_count": 23
        }
      ]
    },
    {
      "cell_type": "code",
      "source": [
        "array2 = array[:, np.newaxis]\n",
        "print(array2)\n",
        "array2.shape"
      ],
      "metadata": {
        "colab": {
          "base_uri": "https://localhost:8080/"
        },
        "id": "RdxPrlMuxJmy",
        "outputId": "02980a14-f881-414c-8309-905210776c9d"
      },
      "execution_count": null,
      "outputs": [
        {
          "output_type": "stream",
          "name": "stdout",
          "text": [
            "[[8]\n",
            " [3]\n",
            " [5]\n",
            " [6]]\n"
          ]
        },
        {
          "output_type": "execute_result",
          "data": {
            "text/plain": [
              "(4, 1)"
            ]
          },
          "metadata": {},
          "execution_count": 25
        }
      ]
    },
    {
      "cell_type": "markdown",
      "source": [
        "# Links useful in this notebook"
      ],
      "metadata": {
        "id": "Vgaq93DyQs19"
      }
    },
    {
      "cell_type": "markdown",
      "source": [
        "*   [What is quartile?](https://www.investopedia.com/terms/q/quartile.asp)\n",
        "*   [Min-max and z-score normalization](https://www.codecademy.com/article/normalization)\n",
        "\n"
      ],
      "metadata": {
        "id": "2x4B67geQwt9"
      }
    }
  ]
}